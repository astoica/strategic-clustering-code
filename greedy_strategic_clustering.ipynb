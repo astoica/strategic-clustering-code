{
 "cells": [
  {
   "cell_type": "code",
   "execution_count": 1,
   "metadata": {},
   "outputs": [],
   "source": [
    "import os\n",
    "import networkx as nx\n",
    "import csv \n",
    "import numpy as np\n",
    "import random\n",
    "import copy\n",
    "import math \n",
    "from sklearn.cluster import SpectralClustering, KMeans\n",
    "from sklearn.metrics import pairwise_distances\n",
    "import seaborn as sns\n",
    "import matplotlib.pyplot as plt\n",
    "from sklearn.metrics.pairwise import euclidean_distances\n",
    "import pickle\n",
    "import scipy"
   ]
  },
  {
   "cell_type": "markdown",
   "metadata": {},
   "source": [
    "# Metrics"
   ]
  },
  {
   "cell_type": "code",
   "execution_count": 2,
   "metadata": {},
   "outputs": [],
   "source": [
    "# the function cluster_proportions() computes the proportions of different communities in each cluster; \n",
    "# the community affiliation of a node is embedded in a graph attribute called 'color' ('b' for majority, 'r' for minority); for using the real data, embed as such.\n",
    "def cluster_proportions(G, list_nodes_G, no_clusters, cluster_assignment):\n",
    "    # sizes of clusters                                                                                                    \n",
    "    unique, counts = np.unique(cluster_assignment, return_counts=True)\n",
    "    cluster_sizes = dict(zip(unique, counts))\n",
    "    # cluster_proportion is a dictionary mapping from the clusters to the proportion of the majority nodes in each cluster \n",
    "    cluster_proportion = {}\n",
    "    # cluster_majority is a dictionary mapping from the clusters to the number of the majority nodes in each cluster\n",
    "    cluster_majority = {}\n",
    "    # cluster_mminority is a dictionary mapping from the clusters to the number of the minority nodes in each cluster\n",
    "    cluster_minority = {}\n",
    "    for kk in range(no_clusters):\n",
    "        cluster_proportion[kk] = 0\n",
    "        cluster_majority[kk] = 0\n",
    "        cluster_minority[kk] = 0\n",
    "\n",
    "    for u in range(len(list_nodes_G)):\n",
    "        if G.nodes[list_nodes_G[u]]['color'] == 'b':\n",
    "            cluster_proportion[cluster_assignment[u]] += 1\n",
    "            cluster_majority[cluster_assignment[u]] += 1\n",
    "        else:\n",
    "            cluster_minority[cluster_assignment[u]] += 1\n",
    "\n",
    "    for kk in range(no_clusters):\n",
    "        cluster_proportion[kk] /= cluster_sizes[kk]\n",
    "    return cluster_sizes, cluster_proportion, cluster_majority, cluster_minority\n",
    "\n",
    "# the function graph_communities() finds the ratio of majority and minority nodes in the graph\n",
    "# the community affiliation of a node is embedded in a graph attribute called 'color' ('b' for majority, 'r' for minority); for using the real data, embed as such.\n",
    "def graph_communities(G, list_nodes_G):\n",
    "    maj_no = 0\n",
    "    min_no = 0\n",
    "    for u in range(len(list_nodes_G)):\n",
    "        if G.nodes[list_nodes_G[u]]['color'] == 'b':\n",
    "            maj_no += 1\n",
    "        else:\n",
    "            min_no += 1\n",
    "    return maj_no, min_no\n",
    "\n",
    "# interesting that this isn't equivalent to compute_fairness_linear, but it is very similar\n",
    "def compute_fairness_linear_min_prop(G, list_nodes_G, no_clusters, cluster_assignment):\n",
    "    fairness_clusters = {}\n",
    "    [cluster_sizes, cluster_proportion, cluster_majority, cluster_minority] = cluster_proportions(G,list_nodes_G, no_clusters, cluster_assignment)\n",
    "    # print(cluster_proportion)\n",
    "    [maj_no, min_no] = graph_communities(G, list_nodes_G)\n",
    "    min_prop = min_no / (maj_no + min_no)\n",
    "    w = (1 - min_prop) / min_prop\n",
    "    for kk in range(no_clusters):\n",
    "        fairness_clusters[kk] = abs(cluster_majority[kk] - (w * cluster_minority[kk]))\n",
    " \n",
    "    fairness_overall = np.mean(list(fairness_clusters.values()))\n",
    "    return fairness_clusters, fairness_overall\n",
    "\n",
    "def compute_fairness_linear(G, list_nodes_G, no_clusters, cluster_assignment):\n",
    "    fairness_clusters = {}\n",
    "    [cluster_sizes, cluster_proportion, cluster_majority, cluster_minority] = cluster_proportions(G,list_nodes_G, no_clusters, cluster_assignment)\n",
    "    [maj_no, min_no] = graph_communities(G, list_nodes_G)\n",
    "    maj_prop = maj_no / (maj_no + min_no)\n",
    "    for kk in range(no_clusters):\n",
    "        fairness_clusters[kk] = abs(cluster_minority[kk]- cluster_majority[kk]* (1 - maj_prop)/maj_prop)\n",
    " \n",
    "    fairness_overall = np.mean(list(fairness_clusters.values()))\n",
    "    return fairness_clusters, fairness_overall\n",
    "    \n",
    "# the function compute_avg_kdistance_cl() computes the average distance to the k-means center obtained from the kmeans algorithm for a specified cluster\n",
    "# note: this is what k-means optimizes for \n",
    "def compute_avg_kdistance_cl_inertia(cluster_assignment, my_cluster, km_distances):\n",
    "    sumdist = km_distances[np.where(cluster_assignment==my_cluster)][:,my_cluster].sum()\n",
    "    return sumdist\n",
    "\n",
    "# the function compute_avg_kdistance() computes the average distance of all clusters to their respective k-means centers obtained from the kmeans algorithm\n",
    "# note: this is what k-means optimizes for \n",
    "def compute_avg_kdistance_inertia(cluster_assignment, no_clusters, km_distances):\n",
    "    dist_clusters = {}\n",
    "                                                                                                     \n",
    "    for kkk in range(no_clusters):\n",
    "        dist_clusters[kkk] = (km_distances[np.where(cluster_assignment==kkk)][:,kkk]).sum()\n",
    "    sumdist = np.sum(list(dist_clusters.values()))\n",
    "    return dist_clusters, sumdist"
   ]
  },
  {
   "cell_type": "markdown",
   "metadata": {},
   "source": [
    "# Load in dataset"
   ]
  },
  {
   "cell_type": "code",
   "execution_count": 3,
   "metadata": {},
   "outputs": [
    {
     "name": "stdout",
     "output_type": "stream",
     "text": [
      "female:  76\n",
      "male:  51\n"
     ]
    }
   ],
   "source": [
    "#Highschool dataset:\n",
    "filename = 'Highschool-clusteringgames-utilities-conductance.csv'\n",
    "\n",
    "# read in the data as a graph\n",
    "G_og = nx.read_edgelist('datasets/Friendship-network_data_2013.csv')\n",
    "\n",
    "# get the largest connected component of the graph\n",
    "gg = sorted(nx.connected_components(G_og),key=len,reverse=True)[0]\n",
    "Gbig = G_og.subgraph(gg)\n",
    "G_SBM = Gbig.copy()\n",
    "\n",
    "# find the sensitive features (unanonymized gender) and place it in a dictionary\n",
    "gender = {}\n",
    "\n",
    "filename_read = 'datasets/metadata_2013.txt'\n",
    "f = open(filename_read)\n",
    "reader=csv.reader(f)\n",
    "\n",
    "for row in reader:\n",
    "    myrow = row[0].split('\\t')\n",
    "    gender[myrow[0]] = myrow[2]\n",
    "\n",
    "list_init = list(G_SBM.nodes())\n",
    "for u in list_init:\n",
    "    if gender[u] == 'Unknown':\n",
    "        G_SBM.remove_node(u)\n",
    "        \n",
    "# find the spectrum of the graph\n",
    "list_nodes = list(G_SBM.nodes())\n",
    "\n",
    "m = 0 \n",
    "f = 0\n",
    "d = {} \n",
    "for u in G_SBM.nodes():\n",
    "    if gender[u] == 'M':\n",
    "        d[u] = 'b'\n",
    "        m += 1\n",
    "    elif gender[u] == 'F':\n",
    "        d[u] = 'r'\n",
    "        f += 1\n",
    "print('female: ', f)\n",
    "print('male: ', m)\n",
    "\n",
    "nx.set_node_attributes(G_SBM, d, name=\"color\")"
   ]
  },
  {
   "cell_type": "markdown",
   "metadata": {},
   "source": [
    "# Initial Spectral Clustering"
   ]
  },
  {
   "cell_type": "code",
   "execution_count": 15,
   "metadata": {},
   "outputs": [],
   "source": [
    "# k is the number of clusters for spectral clustering\n",
    "#k = len(sizes) # for simulated model\n",
    "k = 5 # for the real data; needs to be varied\n",
    "\n",
    "\n",
    "# computing the spectrum of the graph\n",
    "A = nx.adjacency_matrix(G_SBM)\n",
    "# computing the normalized Laplacian of the graph\n",
    "L = nx.normalized_laplacian_matrix(G_SBM)\n",
    "L.todense()\n",
    "D = np.diag(np.sum(np.array(A.todense()), axis=1))\n",
    "\n",
    "# computing the eigenvalues and eigenvectors of the normalized Laplacian\n",
    "e, v = np.linalg.eig(L.todense())\n",
    "\n",
    "# only take the first k sorted eigenvalues (can start from 0 or from 1, since first is 0 given that we have one connected component often times)\n",
    "i = [list(e).index(j) for j in sorted(list(e))[1:k]]\n",
    "\n",
    "U = np.array(v[:, i])\n",
    "# performing manual spectral clustering: using the first k values of the eigenspace to do k-means \n",
    "#km = KMeans(init='k-means++', n_clusters=k, max_iter=200, n_init=200, verbose=0, random_state=3425)\n",
    "km = KMeans(init='k-means++', n_clusters=k, max_iter=200, n_init=200, verbose=0)\n",
    "\n",
    "km.fit(U)\n",
    "y = km.labels_\n",
    "# distances from the k-centers\n",
    "X_dist = km.transform(U)**2\n",
    "\n",
    "# keeping a copy of the clustering assignment\n",
    "y_copy = copy.deepcopy(y)"
   ]
  },
  {
   "cell_type": "code",
   "execution_count": 16,
   "metadata": {},
   "outputs": [
    {
     "name": "stdout",
     "output_type": "stream",
     "text": [
      "Average unfairness:  8.101960784313727\n",
      "Average cost:  0.7056305852672413\n"
     ]
    }
   ],
   "source": [
    "[clf, avgf] = compute_fairness_linear(G_SBM, list_nodes,k,y)\n",
    "print(\"Average unfairness: \", avgf)  \n",
    "\n",
    "[clcost,avgcost] = compute_avg_kdistance_inertia(y,k,X_dist)\n",
    "print(\"Average cost: \", avgcost)"
   ]
  },
  {
   "cell_type": "code",
   "execution_count": 17,
   "metadata": {},
   "outputs": [],
   "source": [
    "def find_best_change(G, cluster_assignment, km_distances, no_clusters):\n",
    "    list_nodes = list(G.nodes())\n",
    "    [maj_no, min_no] = graph_communities(G_SBM, list_nodes)\n",
    "    maj_prop = maj_no / (maj_no + min_no)\n",
    "    w = (1 - maj_prop) / maj_prop\n",
    "    \n",
    "    changes_list = []\n",
    "    for u in range(len(list_nodes)):\n",
    "        for cluster in range(k):\n",
    "            if cluster_assignment[u] != cluster:\n",
    "                # calculate the change in cost - 2 parts, u joining new cluster, u leaving prev cluster\n",
    "                dist_join = km_distances[u, cluster] # added cost from joining\n",
    "                dist_leave = km_distances[u, cluster_assignment[u]] # subtracted cost from leaving\n",
    "                cost = dist_join - dist_leave\n",
    "                # print(cost)\n",
    "\n",
    "                # calculate the change in fairness - 2 parts, u joining new cluster, u leaving prev cluster\n",
    "                [_, _, cluster_majority, cluster_minority] = cluster_proportions(G_SBM, list_nodes, k, cluster_assignment)\n",
    "                joined_cluster_maj = cluster_majority[cluster]\n",
    "                joined_cluster_min = cluster_minority[cluster]\n",
    "\n",
    "                left_cluster_maj = cluster_majority[cluster_assignment[u]]\n",
    "                left_cluster_min = cluster_minority[cluster_assignment[u]]\n",
    "\n",
    "                fair_join = abs(joined_cluster_min - (w * joined_cluster_maj)) # unfairness before\n",
    "                fair_leave = abs(left_cluster_min - (w * left_cluster_maj)) # unfairness before\n",
    "\n",
    "                if G_SBM.nodes[list_nodes[u]]['color'] == 'b':\n",
    "                    joined_cluster_maj += 1\n",
    "                    left_cluster_maj -= 1\n",
    "                else:\n",
    "                    joined_cluster_min += 1\n",
    "                    left_cluster_min -= 1\n",
    "                    \n",
    "                # old unfairness minus new unfairness (fairness gain)\n",
    "                fair_join -= abs(joined_cluster_min - (w * joined_cluster_maj)) \n",
    "                fair_leave -= abs(left_cluster_min - (w * left_cluster_maj))\n",
    "\n",
    "                fairness = (fair_join + fair_leave) / no_clusters\n",
    "\n",
    "                changes_list.append(((u, cluster), fairness, cost, fairness / cost))\n",
    "                \n",
    "    # search over changes with positive fairness gain and cost increase\n",
    "    good_changes_list = [c for c in changes_list if c[1] > 0 and c[2] > 0]\n",
    "    good_changes_list.sort(key=lambda a: a[3], reverse = True)\n",
    "    if len(good_changes_list) > 0:\n",
    "        best_change = good_changes_list[0]\n",
    "        return best_change\n",
    "    else:\n",
    "        print(\"No more good changes\")\n",
    "        return 0"
   ]
  },
  {
   "cell_type": "code",
   "execution_count": 18,
   "metadata": {},
   "outputs": [
    {
     "name": "stdout",
     "output_type": "stream",
     "text": [
      "Iteration: 0\n",
      "Iteration: 1\n",
      "Iteration: 2\n",
      "Iteration: 3\n",
      "Iteration: 4\n",
      "Iteration: 5\n",
      "Iteration: 6\n",
      "Iteration: 7\n",
      "Iteration: 8\n",
      "Iteration: 9\n",
      "Iteration: 10\n",
      "Iteration: 11\n",
      "Iteration: 12\n",
      "Iteration: 13\n",
      "Iteration: 14\n",
      "Iteration: 15\n",
      "Iteration: 16\n",
      "No more good changes\n"
     ]
    }
   ],
   "source": [
    "cluster_assignment = copy.deepcopy(y)\n",
    "i = 0\n",
    "f_vals = []\n",
    "c_vals = []\n",
    "while True:\n",
    "    print(f\"Iteration: {i}\")\n",
    "    i += 1\n",
    "    # print metrics for current iteration\n",
    "    [clf, avgf] = compute_fairness_linear(G_SBM, list_nodes, k, cluster_assignment)\n",
    "    f_vals.append(avgf)\n",
    "    # print(\"Average unfairness: \", avgf)\n",
    "    [clcost,avgcost] = compute_avg_kdistance_inertia(cluster_assignment,k,X_dist)\n",
    "    c_vals.append(avgcost)\n",
    "    # print(\"Average cost: \", avgcost)\n",
    "    \n",
    "    # find best change\n",
    "    best_change = find_best_change(G_SBM, cluster_assignment, X_dist, k)\n",
    "    if best_change == 0:\n",
    "        break\n",
    "    best_change = best_change[0]\n",
    "    \n",
    "    # update clustering\n",
    "    cluster_assignment[best_change[0]] = best_change[1]"
   ]
  },
  {
   "cell_type": "code",
   "execution_count": 19,
   "metadata": {},
   "outputs": [
    {
     "data": {
      "image/png": "[encoded data removed]",
      "text/plain": [
       "<Figure size 432x288 with 1 Axes>"
      ]
     },
     "metadata": {
      "needs_background": "light"
     },
     "output_type": "display_data"
    }
   ],
   "source": [
    "plt.scatter(c_vals, f_vals)\n",
    "plt.plot(c_vals, f_vals)\n",
    "plt.xlabel(\"Cost\")\n",
    "plt.ylabel(\"Unfairness\");"
   ]
  }
 ],
 "metadata": {
  "kernelspec": {
   "display_name": "Python 3",
   "language": "python",
   "name": "python3"
  },
  "language_info": {
   "codemirror_mode": {
    "name": "ipython",
    "version": 3
   },
   "file_extension": ".py",
   "mimetype": "text/x-python",
   "name": "python",
   "nbconvert_exporter": "python",
   "pygments_lexer": "ipython3",
   "version": "3.8.5"
  }
 },
 "nbformat": 4,
 "nbformat_minor": 4
}
