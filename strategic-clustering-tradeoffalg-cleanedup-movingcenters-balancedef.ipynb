{
 "cells": [
  {
   "cell_type": "code",
   "execution_count": 1,
   "id": "10144c70",
   "metadata": {},
   "outputs": [],
   "source": [
    "''' This code implements the set of algorithms described in Section 5 from http://www.columbia.edu/~as5001/strategicclustering.pdf in order to find the next point in the fairness/utility-quality trade-off curve.'''\n",
    "import networkx as nx\n",
    "import csv \n",
    "import numpy as np\n",
    "import random\n",
    "import copy\n",
    "import math \n",
    "from sklearn.cluster import SpectralClustering, KMeans\n",
    "from sklearn.metrics import pairwise_distances\n",
    "import seaborn as sns\n",
    "import matplotlib.pyplot as plt\n",
    "from sklearn.metrics.pairwise import euclidean_distances\n",
    "import pickle\n",
    "import scipy"
   ]
  },
  {
   "cell_type": "code",
   "execution_count": 237,
   "id": "d7b5b31d",
   "metadata": {},
   "outputs": [],
   "source": [
    "# the function cluster_proportions() computes the proportions of different communities in each cluster; \n",
    "# the community affiliation of a node is embedded in a graph attribute called 'color' ('b' for majority, 'r' for minority); for using the real data, embed as such.\n",
    "def cluster_proportions(G, list_nodes_G, no_clusters, cluster_assignment):\n",
    "    # sizes of clusters                                                                                                    \n",
    "    unique, counts = np.unique(cluster_assignment, return_counts=True)\n",
    "    cluster_sizes = dict(zip(unique, counts))\n",
    "    # cluster_proportion is a dictionary mapping from the clusters to the proportion of the majority nodes in each cluster \n",
    "    cluster_proportion = {}\n",
    "    # cluster_majority is a dictionary mapping from the clusters to the number of the majority nodes in each cluster\n",
    "    cluster_majority = {}\n",
    "    # cluster_mminority is a dictionary mapping from the clusters to the number of the minority nodes in each cluster\n",
    "    cluster_minority = {}\n",
    "    for kk in range(no_clusters):\n",
    "        cluster_proportion[kk] = 0\n",
    "        cluster_majority[kk] = 0\n",
    "        cluster_minority[kk] = 0\n",
    "\n",
    "    for u in range(len(list_nodes_G)):\n",
    "        if G.nodes[list_nodes_G[u]]['color'] == 'b':\n",
    "            cluster_proportion[cluster_assignment[u]] += 1\n",
    "            cluster_majority[cluster_assignment[u]] += 1\n",
    "        else:\n",
    "            cluster_minority[cluster_assignment[u]] += 1\n",
    "\n",
    "    for kk in range(no_clusters):\n",
    "        cluster_proportion[kk] /= cluster_sizes[kk]\n",
    "    return cluster_sizes, cluster_proportion, cluster_majority, cluster_minority\n",
    "\n",
    "# the function graph_communities() finds the ratio of majority and minority nodes in the graph\n",
    "# the community affiliation of a node is embedded in a graph attribute called 'color' ('b' for majority, 'r' for minority); for using the real data, embed as such.\n",
    "def graph_communities(G, list_nodes_G):\n",
    "    maj_no = 0\n",
    "    min_no = 0\n",
    "    for u in range(len(list_nodes_G)):\n",
    "        if G.nodes[list_nodes_G[u]]['color'] == 'b':\n",
    "            maj_no += 1\n",
    "        else:\n",
    "            min_no += 1\n",
    "    return maj_no, min_no\n",
    "\n",
    "\n",
    "# the function compute_fairness_linear() computes a linear fairness metric defined as abs(#R in cluster - #B in cluster times (1-p)/p), where p = |B| / (|R| + |B|) in the general graph G\n",
    "def compute_fairness_linear(G, list_nodes_G, no_clusters, cluster_assignment):\n",
    "    fairness_clusters = {}\n",
    "    [cluster_sizes, cluster_proportion, cluster_majority, cluster_minority] = cluster_proportions(G,list_nodes_G, no_clusters, cluster_assignment)\n",
    "    [maj_no, min_no] = graph_communities(G, list_nodes_G)\n",
    "    maj_prop = maj_no / (maj_no + min_no)\n",
    "    for kk in range(no_clusters):\n",
    "        fairness_clusters[kk] = abs(cluster_minority[kk]- cluster_majority[kk]* (1 - maj_prop)/maj_prop)\n",
    " \n",
    "    fairness_overall = np.sum(list(fairness_clusters.values()))\n",
    "    fairness_overall = np.round(fairness_overall, 6)\n",
    "    return fairness_clusters, fairness_overall\n",
    "\n",
    "\n",
    "\n",
    "# the function compute_fairness_avgprop() computes the average fairness as defined by balance for a clustering as defined in https://proceedings.neurips.cc/paper_files/paper/2017/file/978fce5bcc4eccc88ad48ce3914124a2-Paper.pdf\n",
    "\n",
    "def compute_balance_minprop(G, list_nodes_G, no_clusters, cluster_assignment):\n",
    "    fairness_clusters = {}\n",
    "    [cluster_sizes, cluster_proportion, cluster_majority, cluster_minority] = cluster_proportions(G,list_nodes_G, no_clusters, cluster_assignment)\n",
    "    #[maj_no, min_no] = graph_communities(G, list_nodes_G)\n",
    "    #maj_prop = maj_no / (maj_no + min_no)\n",
    "    for kk in range(no_clusters):\n",
    "        fairness_clusters[kk] = min(cluster_proportion[kk], 1 - cluster_proportion[kk])\n",
    " \n",
    "    # fairness_overall = min(list(fairness_clusters.values()))\n",
    "    fairness_overall = np.mean(list(fairness_clusters.values()))\n",
    "    \n",
    "    return fairness_clusters, fairness_overall\n",
    "\n",
    "\n",
    "# the function compute_fairness_avgprop() computes the average fairness similar to balance for a clustering as defined in http://proceedings.mlr.press/v97/kleindessner19b.html (avg balance)\n",
    "def compute_fairness_avgprop(G, list_nodes_G, no_clusters, cluster_assignment):\n",
    "    fairness_clusters = {}\n",
    "    [cluster_sizes, cluster_proportion, cluster_majority, cluster_minority] = cluster_proportions(G,list_nodes_G, no_clusters, cluster_assignment)\n",
    "    [maj_no, min_no] = graph_communities(G, list_nodes_G)\n",
    "    maj_prop = maj_no / (maj_no + min_no)\n",
    "    for kk in range(no_clusters):\n",
    "        fairness_clusters[kk] = abs(cluster_proportion[kk]- maj_prop)\n",
    " \n",
    "    fairness_overall = np.mean(list(fairness_clusters.values()))\n",
    "    return fairness_clusters, fairness_overall\n",
    "\n",
    "\n",
    "\n",
    "# computing the incluster degree of nodes, helper function for compute_fairness_avgprop_mfhg and compute_util_avgprop_closeness\n",
    "def incluster_degree(G, list_nodes_G, cluster_assignment, node):\n",
    "    degu = 0\n",
    "    for nbr in G.neighbors(node):\n",
    "        if cluster_assignment[list_nodes_G.index(node)] == cluster_assignment[list_nodes_G.index(nbr)]:\n",
    "            degu += 1\n",
    "    return degu\n",
    "\n",
    "\n",
    "# the function compute_fairness_avgprop_mfhg() computes the average utility as defined by mfu (https://www.semanticscholar.org/paper/Price-of-Pareto-Optimality-in-Hedonic-Games-Elkind-Fanelli/7764a4ee7d8e0a56c05439a429678d031ce601d4) \n",
    "# this utility function is mfu, from Price of Pareto Optimality in hedonic games by elkind et al, namely, w_i(C) / |C| - 1 (or w_i(C)/|C|) where w_i(C) is the sum of utility of node i in cluster C\n",
    "def compute_util_avgprop_mfhg(G, list_nodes_G, no_clusters, cluster_assignment):\n",
    "    util_clusters = {}\n",
    "    for i in range(no_clusters):\n",
    "        util_clusters[i] = 0\n",
    "        # indices in cluster i\n",
    "        cl = np.where(cluster_assignment == i)[0]\n",
    "        for j in cl: \n",
    "            deg_u = incluster_degree(G, list_nodes_G, cluster_assignment, list_nodes_G[j])\n",
    "            util_clusters[i] += deg_u/ (len(cl) - 1)\n",
    "    util_overall = np.mean(list(util_clusters.values()))\n",
    "    return util_clusters, util_overall\n",
    "\n",
    "# the function compute_util_avgprop_closeness() computes the average utility as defined by the closeness utility, section 3 in http://www.columbia.edu/~as5001/strategicclustering.pdf\n",
    "def compute_util_avgprop_closeness(G, list_nodes_G, no_clusters, cluster_assignment):\n",
    "    util_clusters = {}\n",
    "    for i in range(no_clusters):\n",
    "        util_clusters[i] = 0\n",
    "        # indices in cluster i\n",
    "        cl = np.where(cluster_assignment == i)[0]\n",
    "        for j in cl: \n",
    "            lengths_total = nx.single_source_shortest_path_length(G, list_nodes_G[j])\n",
    "            deg_u = incluster_degree(G, list_nodes_G, cluster_assignment, list_nodes_G[j])\n",
    "            lengths_j = 0\n",
    "            for jj in cl:\n",
    "                if j != jj:\n",
    "                    lengths_j += lengths_total[list_nodes_G[jj]]\n",
    "            util_clusters[i] += deg_u/lengths_j\n",
    "    util_overall = np.mean(list(util_clusters.values()))\n",
    "    return util_clusters, util_overall\n",
    "\n",
    "# the function compute_conductance() computes average conductance for a clustering assignment (a metric for 'quality' of clustering in networks)\n",
    "def compute_avg_conductance(G, list_nodes_G, no_clusters, cluster_assignment):\n",
    "    conductance = 0\n",
    "    conductance_clusters = {}\n",
    "    \n",
    "    for i in range(no_clusters):\n",
    "        ll = np.where(cluster_assignment==i)[0].tolist()\n",
    "        conductance_clusters[i] = nx.conductance(G, ll, list(set(list_nodes_G) - set(ll)))\n",
    "    conductance = np.mean(list(conductance_clusters.values()))\n",
    "    return conductance_clusters, conductance\n",
    "\n",
    "# the function compute_avg_kdistance_cl() computes the average distance to the k-means center obtained from the kmeans algorithm for a specified cluster\n",
    "# note: k-means doesn't optimize for average, this is just for our own experiments; in general, we use compute_avg_kdistance_cl_inertia defined below \n",
    "def compute_avg_kdistance_cl(cluster_assignment, my_cluster, km_distances):\n",
    "    avgdist = km_distances[np.where(cluster_assignment==my_cluster)][:,my_cluster].mean()\n",
    "    return avgdist\n",
    "\n",
    "# the function compute_avg_kdistance() computes the average distance of all clusters to their respective k-means centers obtained from the kmeans algorithm\n",
    "# note: k-means doesn't optimize for average, this is just for our own experiments; in general, we use compute_avg_kdistance_cl_inertia defined below \n",
    "def compute_avg_kdistance(cluster_assignment, no_clusters, km_distances):\n",
    "    dist_clusters = {}\n",
    "                                                                                                     \n",
    "    for kkk in range(no_clusters):\n",
    "        dist_clusters[kkk] = km_distances[np.where(cluster_assignment==kkk)][:,kkk].mean()\n",
    "    avgdist = np.mean(list(dist_clusters.values()))\n",
    "    return dist_clusters, avgdist\n",
    "\n",
    "# the function compute_avg_kdistance_cl() computes the average distance to the k-means center obtained from the kmeans algorithm for a specified cluster\n",
    "# note: this is what k-means optimizes for \n",
    "def compute_avg_kdistance_cl_inertia(cluster_assignmentx, my_cluster, km_distances):\n",
    "    sumdist = km_distances[np.where(cluster_assignmentx==my_cluster)][:,my_cluster].sum()\n",
    "    return sumdist\n",
    "\n",
    "# the function compute_avg_kdistance() computes the average distance of all clusters to their respective k-means centers obtained from the kmeans algorithm\n",
    "# note: this is what k-means optimizes for \n",
    "def compute_avg_kdistance_inertia(cluster_assignmentx, no_clusters, km_distances):\n",
    "    dist_clusters = {}\n",
    "                                                                                                     \n",
    "    for kkk in range(no_clusters):\n",
    "        dist_clusters[kkk] = (km_distances[np.where(cluster_assignmentx==kkk)][:,kkk]).sum()\n",
    "    sumdist = np.sum(list(dist_clusters.values()))\n",
    "    return dist_clusters, sumdist\n",
    "\n",
    "# # the function compute_avg_ncut() computes the normalized cut size between a subgraph S and a graph G\n",
    "def compute_avg_ncut(G, list_nodes_G, no_clusters, cluster_assignment):\n",
    "    ncut = 0\n",
    "    ncut_clusters = {}\n",
    "                                                                                                    \n",
    "    for i in range(no_clusters):\n",
    "        ll = np.where(cluster_assignment==i)[0].tolist()\n",
    "        ncut_clusters[i] = nx.normalized_cut_size(G, ll, list(set(list_nodes_G) - set(ll)))\n",
    "    ncut = np.mean(list(ncut_clusters.values()))\n",
    "    return ncut_clusters, ncut\n",
    "\n",
    "def compute_centroids(G, list_nodes_G, no_clusters, cluster_assignment,myU):\n",
    "    list_centroids = []\n",
    "    for kk in range(no_clusters):\n",
    "        list_centroids.append(myU[np.where(cluster_assignment==kk),:][0].mean(axis=0))\n",
    "    return list_centroids\n",
    "    \n",
    "# the function doubly_weighted_G() creates a transformed doubly-weighted graph from an original inputted graph, where the weights represent the difference fairness/utility and quality, respectively.\n",
    "def doubly_weighted_G(G,Gnew, list_nodes_G,cluster_assignment,no_clusters, km_distances):\n",
    "    # use closeness utility\n",
    "    #[fairness_cl, fairness_all] = compute_util_avgprop_closeness(G, list_nodes_G, no_clusters, cluster_assignment)\n",
    "    # use statistical parity\n",
    "    [fairness_cl, fairness_all] = compute_balance_minprop(G, list_nodes_G, no_clusters, cluster_assignment)\n",
    "    [distances_cl, distances] = compute_avg_kdistance_inertia(cluster_assignment, no_clusters, km_distances)\n",
    "    cc = copy.deepcopy(cluster_assignment)\n",
    "\n",
    "    for u in range(len(list_nodes_G)):\n",
    "        for v in range(len(list_nodes_G)):\n",
    "            if cluster_assignment[u] != cluster_assignment[v]:\n",
    "                cluster_assignment_copy = copy.deepcopy(cluster_assignment)\n",
    "                mycl = cluster_assignment[v]\n",
    "                # TODO: double check this, don't exchange them just compute the new clustering fairness/quality since you're changing the cluster assignment \n",
    "                # cluster_assignment_copy[u], cluster_assignment_copy[v] = cluster_assignment[v], cluster_assignment[u]\n",
    "                cluster_assignment_copy[u] = copy.deepcopy(cluster_assignment[v]) \n",
    "                cluster_assignment_copy[v] = copy.deepcopy(cluster_assignment[u])\n",
    "\n",
    "                # use closeness utility\n",
    "                #[fairness_cl_new, fairness_all_new] = compute_util_avgprop_closeness(G, list_nodes_G, no_clusters, cluster_assignment)\n",
    "                # use statistical parity\n",
    "                [fairness_cl_new, fairness_all_new] = compute_balance_minprop(G, list_nodes_G, no_clusters, cluster_assignment_copy)\n",
    "                distances_cl_new = compute_avg_kdistance_cl_inertia(cluster_assignment_copy, mycl, km_distances)\n",
    "\n",
    "                # Gnew.add_edge(list_nodes_G[u],list_nodes_G[v],auv=(fairness_cl_new[mycl]-fairness_cl[mycl]),tuv=distances_cl_new-distances_cl[mycl])\n",
    "                # NOTE: exchange the order, for balance instead of fairness \n",
    "                Gnew.add_edge(list_nodes_G[u],list_nodes_G[v],auv=(fairness_cl[mycl]-fairness_cl_new[mycl]),tuv=distances_cl_new-distances_cl[mycl])\n",
    "                #cluster_assignment[u], cluster_assignment[v] = cluster_assignment[v], cluster_assignment[u]\n",
    "    assert(cc == cluster_assignment).all()\n",
    "    print('ok with the exchange')\n",
    "\n",
    "    # adding edges from nodes to clusters\n",
    "    cluster_nodes = list(range(len(G.nodes()),len(G.nodes()) + no_clusters))\n",
    "    Gnew.add_nodes_from(cluster_nodes)\n",
    "    for u in range(len(list_nodes_G)):\n",
    "        for i in range(no_clusters):\n",
    "            if cluster_assignment[u] != i:\n",
    "                ucl = cluster_assignment[u]\n",
    "                cluster_assignment[u] = i\n",
    "                v = i + len(G.nodes())\n",
    "                # use closeness utility\n",
    "                #[fairness_cl_new, fairness_all_new] = compute_util_avgprop_closeness(G, list_nodes_G, no_clusters, cluster_assignment)\n",
    "                # use statistical parity\n",
    "                [fairness_cl_new, fairness_all_new] = compute_balance_minprop(G, list_nodes_G, no_clusters, cluster_assignment)\n",
    "                distances_cl_new = compute_avg_kdistance_cl_inertia(cluster_assignment, i, km_distances)    \n",
    "                # Gnew.add_edge(list_nodes_G[u],v,auv=(fairness_cl_new[i]-fairness_cl[i]),tuv=distances_cl_new-distances_cl[i])\n",
    "                # NOTE: exchange the order, for balance instead of fairness            \n",
    "                Gnew.add_edge(list_nodes_G[u],v,auv=(fairness_cl[i] - fairness_cl_new[i]),tuv=distances_cl_new-distances_cl[i])\n",
    "                cluster_assignment[u] = ucl\n",
    "    assert(cc == cluster_assignment).all()\n",
    "    print('ok with the nodes to cluster edges')\n",
    "\n",
    "    # adding edges from clusters to nodes if a node leaves its cluster \n",
    "    for u in range(len(list_nodes_G)):\n",
    "        mycl2 = cluster_assignment[u]\n",
    "        cluster_assignment[u] = (mycl2 + 1)%no_clusters\n",
    "        v = mycl2 + len(G.nodes())\n",
    "        [fairness_cl_new, fairness_all_new] = compute_balance_minprop(G, list_nodes_G, no_clusters, cluster_assignment)\n",
    "        distances_cl_new = compute_avg_kdistance_cl_inertia(cluster_assignment, mycl2, km_distances)               \n",
    "        # Gnew.add_edge(v,list_nodes_G[u],auv=(fairness_cl_new[mycl2]-fairness_cl[mycl2]),tuv=distances_cl_new-distances_cl[mycl2])\n",
    "        # NOTE: exchange the order, for balance instead of fairness \n",
    "        Gnew.add_edge(v,list_nodes_G[u],auv=(fairness_cl[mycl2]- fairness_cl_new[mycl2]),tuv=distances_cl_new-distances_cl[mycl2])\n",
    "        cluster_assignment[u] = mycl2\n",
    "    assert(cc == cluster_assignment).all()\n",
    "    print('ok with the cluster to nodes edges')\n",
    "\n",
    "    # add node start \n",
    "    nn = len(Gnew.nodes())\n",
    "    Gnew.add_node(nn)\n",
    "\n",
    "    for j in cluster_nodes:\n",
    "        Gnew.add_edge(j,nn,auv=0,tuv=0)\n",
    "        Gnew.add_edge(nn,j,auv=0,tuv=0)\n",
    "    assert(cc == cluster_assignment).all()\n",
    "    print('ok with everything')\n",
    "\n",
    "\n",
    "    # TODO: REMOVE THIS: not necessary to have an edge from start to every node\n",
    "    # for j in range(len(G.nodes())):\n",
    "        # add an edge from start node to every node with weight equal to the difference if we remove the node from its cluster\n",
    "    #    mycl2 = cluster_assignment[j]\n",
    "    #    cluster_assignment[j] = (mycl2 + 1)%no_clusters\n",
    "        # use closeness utility\n",
    "        #[fairness_cl_new2, fairness_all_new2] = compute_util_avgprop_closeness(G, list_nodes_G, no_clusters, cluster_assignment)\n",
    "        # use statistical parity\n",
    "    #    [fairness_cl_new2, fairness_all_new2] = compute_balance_minprop(G, list_nodes_G, no_clusters, cluster_assignment)\n",
    "    #    distances_cl_new2 = compute_avg_kdistance_cl_inertia(cluster_assignment, mycl2, km_distances)\n",
    "    #    Gnew.add_edge(nn,list_nodes_G[j],auv=(fairness_cl_new2[mycl2]-fairness_cl[mycl2]),tuv=distances_cl_new2-distances_cl[mycl2])\n",
    "    #    cluster_assignment[j] = mycl2\n",
    "    #for j in range(len(G.nodes()),nn):\n",
    "    #    Gnew.add_edge(j,nn,auv=0,tuv=0)\n",
    "    \n",
    "    return Gnew\n",
    "\n",
    "# this is the classic Floyd-Warshall algorithm for finding whether there is a negative cycle in t_uv weights\n",
    "def negCyclefloydWarshall(G,list_nodes_G): \n",
    "    V = len(G.nodes())\n",
    "    # dist[][] will be the \n",
    "    # output matrix that will  \n",
    "    # finally have the shortest  \n",
    "    # distances between every \n",
    "    # pair of vertices  \n",
    "    #dist=[[0 for i in range(V+1)]for j in range(V+1)] \n",
    "    dist=[[0 for i in range(V)]for j in range(V)] \n",
    "       \n",
    "    # Initialize the solution \n",
    "    # matrix same as input \n",
    "    # graph matrix. Or we can \n",
    "    # say the initial values  \n",
    "    # of shortest distances \n",
    "    # are based on shortest  \n",
    "    # paths considering no \n",
    "    # intermediate vertex.  \n",
    "    for i in range(V): \n",
    "        for j in range(V): \n",
    "            if [list_nodes_G[i],list_nodes_G[j]] in G.edges():\n",
    "                dist[i][j] = G[i][j]['tuv'] \n",
    "            else:\n",
    "                dist[i][j] = math.inf\n",
    "    ''' Add all vertices one \n",
    "        by one to the set of  \n",
    "        intermediate vertices. \n",
    "    ---> Before start of a iteration, \n",
    "         we have shortest \n",
    "        distances between all pairs \n",
    "        of vertices such  \n",
    "        that the shortest distances \n",
    "        consider only the \n",
    "        vertices in set {0, 1, 2, .. k-1} \n",
    "        as intermediate vertices. \n",
    "    ----> After the end of a iteration, \n",
    "          vertex no. k is  \n",
    "        added to the set of \n",
    "        intermediate vertices and  \n",
    "        the set becomes {0, 1, 2, .. k} '''\n",
    "    for k in range(V): \n",
    "      \n",
    "        # Pick all vertices  \n",
    "        # as source one by one \n",
    "        for i in range(V): \n",
    "                   \n",
    "            # Pick all vertices as \n",
    "            # destination for the \n",
    "            # above picked source \n",
    "            for j in range(V): \n",
    "          \n",
    "                # If vertex k is on \n",
    "                # the shortest path from \n",
    "                # i to j, then update \n",
    "                # the value of dist[i][j] \n",
    "                if ((dist[i][k] + dist[k][j]) < dist[i][j]): \n",
    "                        dist[i][j] = dist[i][k] + dist[k][j] \n",
    "   \n",
    "    # If distance of any \n",
    "    # vertex from itself \n",
    "    # becomes negative, then \n",
    "    # there is a negative \n",
    "    # weight cycle. \n",
    "    for i in range(V): \n",
    "        if (dist[i][i] < 0): \n",
    "            return True\n",
    "   \n",
    "    return False\n",
    "\n",
    "# the function create_M_graph() creates a transformed graph with weights a_uv * M - t_uv\n",
    "def create_M_graph(G,newG, theM):\n",
    "    myG_M = nx.DiGraph()\n",
    "    myG_M.add_nodes_from(G)\n",
    "    auv_var=nx.get_edge_attributes(newG,'auv')\n",
    "    tuv_var=nx.get_edge_attributes(newG,'tuv')\n",
    "    for e in newG.edges():\n",
    "        # note that it is auv + M * tuv, in order to make M positive\n",
    "        myG_M.add_edge(e[0],e[1],weight=auv_var[e]+theM*tuv_var[e])\n",
    "    return myG_M\n",
    "\n",
    "# the function SPFA() implements a faster version of the Floyd-Warshall algorithm for finding negative cycles, without early termination and with cycle termination\n",
    "def SPFA(G):\n",
    "    queue = []\n",
    "    length = {}\n",
    "    dis = {}\n",
    "    pre = {} \n",
    "    for v in G.nodes():\n",
    "        length[v] = 0\n",
    "        dis[v] = 0\n",
    "        pre[v] = 0\n",
    "        queue.append(v)\n",
    "    while len(queue) > 0:\n",
    "        u = queue.pop(0)\n",
    "        for (u, v) in G.edges():\n",
    "            if dis[u] + G[u][v]['weight'] < dis[v]:\n",
    "                pre[v] = u\n",
    "                length[v] = length[u] + 1\n",
    "                if length[v] == len(G.nodes()):\n",
    "                    return v,pre,\"negative cycle detected\"\n",
    "                dis[v] = dis[u] + G[u][v]['weight']\n",
    "                if v not in queue:\n",
    "                    queue.append(v)\n",
    "    return \"no negative cycle detected\"\n",
    "\n",
    "# the function Trace() traces the negative cycle from the vertex given by SPFA\n",
    "def Trace(pre, v):\n",
    "    mys = []\n",
    "    while v not in mys:\n",
    "        mys.append(v)\n",
    "        v = pre[v]\n",
    "    cycle = [v]\n",
    "    while mys[len(mys)-1] != v:\n",
    "        cycle.append(mys.pop())\n",
    "    cycle.append(v)\n",
    "    return cycle\n",
    "\n",
    "# the function compute_slope() computes the slope of line in Euclidean space\n",
    "def compute_slope(x1, y1, x2, y2):\n",
    "    return (float)(y2-y1)/(x2-x1)\n",
    "\n",
    "# the function SPFA() implements a faster version of the Floyd-Warshall algorithm for finding negative cycles, without early termination and with cycle termination, used only for the t-weights\n",
    "def SPFA2(G):\n",
    "    length = {}\n",
    "    dis = {}   \n",
    "    pre = {} \n",
    "    queue = []\n",
    "    for v in G.nodes():\n",
    "        length[v] = 0\n",
    "        dis[v] = 0\n",
    "        pre[v] = 0\n",
    "        queue.append(v)\n",
    "    while len(queue) > 0:\n",
    "        u = queue.pop(0)\n",
    "        for (u, v) in G.edges():\n",
    "            if dis[u] + G[u][v]['tuv'] < dis[v]:\n",
    "                pre[v] = u\n",
    "                length[v] = length[u] + 1\n",
    "                if length[v] == len(G.nodes()):\n",
    "                    return v,pre,\"negative cycle detected\"\n",
    "                dis[v] = dis[u] + G[u][v]['tuv']\n",
    "                if v not in queue:\n",
    "                    queue.append(v)\n",
    "    return \"no negative cycle detected\"\n",
    "\n",
    "# the function compute_conductance() computes average conductance for a clustering assignment\n",
    "def compute_conductance(G, list_of_nodes_G, cluster_assignment, no_of_clusters):\n",
    "    clconductance = {}\n",
    "    for i in range(no_of_clusters):\n",
    "        icl = [list_of_nodes_G[x] for x in list(np.where(cluster_assignment == i)[0])]\n",
    "        #print(icl)\n",
    "        if len(icl) == 0 or len(icl) == len(list_of_nodes_G):\n",
    "            clconductance[i] = 0\n",
    "        else:\n",
    "            clconductance[i] = nx.conductance(G,icl)\n",
    "    if(len([v for v in clconductance.values() if v > 0]) == 0):\n",
    "        return 0\n",
    "    else:\n",
    "        return 1 - sum(clconductance.values())/len([v for v in clconductance.values() if v > 0])\n",
    "\n",
    "# the function compute_balance is computing average balance of a graph and a clustering as defined by balance for a clustering as defined in http://proceedings.mlr.press/v97/kleindessner19b.html (avg balance)\n",
    "def compute_balance(G,list_of_nodes_G,cluster_assignment,no_of_clusters, sensitive_info):\n",
    "   balance_avg = 0\n",
    "   for cl in range(no_of_clusters):\n",
    "       \n",
    "       clind = np.where(cluster_assignment == cl)[0]\n",
    "       sens0cl = 0\n",
    "       sens1cl = 0\n",
    "       for j in clind:\n",
    "           if sensitive_info[j] == 0:\n",
    "               sens0cl += 1\n",
    "           else:\n",
    "               sens1cl +=1\n",
    "       if sens0cl == 0 or sens1cl == 0:\n",
    "           balance_cl = 0\n",
    "       else:\n",
    "           balance_cl = min(sens0cl/sens1cl,sens1cl/sens0cl)\n",
    "       balance_avg += balance_cl\n",
    "   return balance_avg/no_of_clusters\n",
    "\n",
    "# the function compute_balancemin is computing min balance of a graph and a clustering as defined by balance for a clustering as defined in http://proceedings.mlr.press/v97/kleindessner19b.html (avg balance)\n",
    "def compute_balancemin(G,list_of_nodes_G,cluster_assignment,no_of_clusters, sensitive_info):\n",
    "    balance_min = []\n",
    "    for cl in range(no_of_clusters):\n",
    "        clind = np.where(cluster_assignment == cl)[0]\n",
    "        sens0cl = 0\n",
    "        sens1cl = 0\n",
    "        for j in clind:\n",
    "            if sensitive_info[j] == 0:\n",
    "                sens0cl += 1\n",
    "            else:\n",
    "                sens1cl +=1\n",
    "        if sens0cl == 0 or sens1cl == 0:\n",
    "            balance_cl = 0\n",
    "        else:\n",
    "            balance_cl = min(sens0cl/sens1cl,sens1cl/sens0cl)\n",
    "        balance_min.append(balance_cl)\n",
    "    return min(balance_min)\n",
    "\n",
    "\n",
    "# this function is a Python-version of the Matlab code of the fair spectral clustering algorithm in http://proceedings.mlr.press/v97/kleindessner19b.html, used for comparing clustering with our own alg\n",
    "def Fair_SC_normalized(G, adj,no_clusters,sensitive):\n",
    "    n = np.shape(adj)[1]\n",
    "    sens_unique = np.unique(sensitive)    \n",
    "    h = len(sens_unique)\n",
    "    sensitiveNEW=sensitive.copy()\n",
    "    \n",
    "    temp = 0\n",
    "    \n",
    "    for ell in sens_unique:\n",
    "        sensitiveNEW[np.where(sensitive==ell)[0]] = temp\n",
    "        temp += 1\n",
    "\n",
    "    F=np.zeros([n,h-1])\n",
    "    for ell in range(h-1):\n",
    "        temp = np.where(sensitiveNEW == ell)[0]\n",
    "        F[temp,ell]=1\n",
    "        groupSize = len(temp)\n",
    "        F[:,ell] = F[:,ell]-groupSize/n\n",
    "\n",
    "    L = nx.normalized_laplacian_matrix(G)\n",
    "    L.todense()\n",
    "    D = np.diag(np.sum(np.array(adj.todense()), axis=1))\n",
    "\n",
    "    _,Z = null(F.transpose())\n",
    "    zz = ((Z.transpose()).dot(D)).dot(Z)\n",
    "    Q = scipy.linalg.sqrtm(zz)\n",
    "    Q = Q.real\n",
    "    Qinv = np.linalg.inv(Q)\n",
    "    \n",
    "    Msymm = ((((Qinv.transpose()).dot(Z.transpose())).dot(L.todense())).dot(Z)).dot(Qinv)\n",
    "    Msymm = (Msymm+Msymm.transpose())/2\n",
    "    e,v = np.linalg.eig(Msymm)\n",
    "    \n",
    "    i = [list(e).index(j) for j in sorted(list(e))[1:no_clusters]]\n",
    "    Y = np.array(v[:, i])\n",
    "    Y = Y.real\n",
    "\n",
    "    H = (Z.dot(Qinv)).dot(Y)\n",
    "    \n",
    "    km_fair = KMeans(init='k-means++', n_clusters=no_clusters, max_iter=200, n_init=200, verbose=0, random_state=3425)\n",
    "    km_fair.fit(H)\n",
    "    X_dist_fair = km_fair.transform(H)**2\n",
    "\n",
    "    clusterLabels = km_fair.labels_\n",
    "    return clusterLabels\n",
    "\n",
    "def null(a, rtol=1e-5):\n",
    "    u, s, v = np.linalg.svd(a)\n",
    "    rank = (s > rtol*s[0]).sum()\n",
    "    return rank, v[rank:].T.copy()\n",
    "\n",
    "def compute_fairness_linear_x(G, list_nodes_G, no_clusters, cluster_assignment):\n",
    "    fairness_clusters = {}\n",
    "    [cluster_sizes, cluster_proportion, cluster_majority, cluster_minority] = cluster_proportions(G,list_nodes_G, no_clusters, cluster_assignment)\n",
    "    [maj_no, min_no] = graph_communities(G, list_nodes_G)\n",
    "    maj_prop = maj_no / (maj_no + min_no)\n",
    "    for kk in range(no_clusters):\n",
    "        fairness_clusters[kk] = cluster_minority[kk]- cluster_majority[kk]* (1 - maj_prop)/maj_prop\n",
    " \n",
    "    #fairness_overall = np.sum(list(fairness_clusters.values()))\n",
    "    return fairness_clusters\n",
    "\n",
    "def compute_centroids_manually(U_matrix, cluster_assignment, no_of_clusters):\n",
    "    new_centers = []\n",
    "    for kk in range(no_of_clusters):\n",
    "        kk_center = list(np.mean(U_matrix[np.where(cluster_assignment == kk)[0],:],axis=0))\n",
    "        new_centers.append(kk_center)\n",
    "    return new_centers\n",
    "    \n",
    "def compute_km_distances(points, centroids, no_of_clusters):\n",
    "    \"\"\"\n",
    "    Euclidean distance between point & data.\n",
    "    Point has dimensions (m,), data has dimensions (n,m), and output will be of size (n,).\n",
    "    \"\"\"\n",
    "    \n",
    "    X_dist_new = []\n",
    "    for point in points: \n",
    "        zz = []\n",
    "        for kk in range(no_of_clusters):\n",
    "            zz.append(np.sum((point - centroids[kk])**2))\n",
    "        X_dist_new.append(zz)\n",
    "    return np.array(X_dist_new)"
   ]
  },
  {
   "cell_type": "code",
   "execution_count": 53,
   "id": "5fd1ad49",
   "metadata": {},
   "outputs": [
    {
     "name": "stdout",
     "output_type": "stream",
     "text": [
      "female:  76\n",
      "male:  51\n"
     ]
    }
   ],
   "source": [
    "### the following section reads in one of the datasets: APS, Facebook, Highschool; uncomment for the data desired to use\n",
    "'''#APS dataset: \n",
    "filename = 'APS-clusteringgames-utilities-conductance.csv'\n",
    "\n",
    "# read in the data as a graph\n",
    "G_og = nx.read_gexf('Downloads/clustering_plotting/APS/sampled_APS_pacs052030.gexf')\n",
    "\n",
    "# work with the largest connected compoenent\n",
    "gg = sorted(nx.connected_components(G_og),key=len,reverse=True)[0]\n",
    "Gc = G_og.subgraph(gg)\n",
    "\n",
    "list_nodes=list(Gc.nodes())\n",
    "\n",
    "\n",
    "# finding the spectrum of the graph\n",
    "A = nx.adjacency_matrix(Gc)\n",
    "L = nx.normalized_laplacian_matrix(Gc)\n",
    "L.todense()\n",
    "D = np.diag(np.sum(np.array(A.todense()), axis=1))\n",
    "e, v = np.linalg.eig(L.todense())\n",
    "'''\n",
    "\n",
    "'''#Facebook dataset: \n",
    "filename = 'Facebook-clusteringgames-utilities-conductance.csv'\n",
    "\n",
    "# read in the data as a graph\n",
    "Gc = nx.read_edgelist('Facebook/facebook_combined.txt')\n",
    "\n",
    "list_nodes=list(Gc.nodes())\n",
    "\n",
    "# finding the spectrum of the graph\n",
    "A = nx.adjacency_matrix(Gc)\n",
    "L = nx.normalized_laplacian_matrix(Gc)\n",
    "L.todense()\n",
    "D = np.diag(np.sum(np.array(A.todense()), axis=1))\n",
    "e, v = np.linalg.eig(L.todense())\n",
    "\n",
    "gender = {}\n",
    "egos = ['0', '107','348','414','686','698','1684','1912','3437','3980']\n",
    "genderfeatfinder = {}\n",
    "\n",
    "# find the sensitive feaures (anonymized gender), and place them in a dictionary\n",
    "for u in egos: \n",
    "    genderfeatfinder[u] = {}\n",
    "    filenamefeat = 'Facebook/' + u + '.featnames'\n",
    "    ffeat = open(filenamefeat)\n",
    "    readerfeat = csv.reader(ffeat)\n",
    "    for rowfeat in readerfeat:\n",
    "        myrowfeat = rowfeat[0].split()\n",
    "        genderfeatfinder[u][myrowfeat[0]] = myrowfeat[1].split(';')[0]\n",
    "    ffeat.close()\n",
    "    gender_ind = [k for k,v in genderfeatfinder[u].items() if v == 'gender']\n",
    "    filenameego= 'Facebook/' + u +'.egofeat'\n",
    "    fego = open(filenameego)\n",
    "    readerego =csv.reader(fego)\n",
    "    for rowego in readerego:\n",
    "        myrowego = rowego[0].split()\n",
    "        gender[u] = myrowego[int(max(gender_ind))]\n",
    "    fego.close()\n",
    "    filename= 'Facebook/' + u +'.feat'\n",
    "    f = open(filename)\n",
    "    reader =csv.reader(f)\n",
    "    for row in reader:\n",
    "        myrow = row[0].split()\n",
    "        user = myrow[0]\n",
    "        gender[user] = myrow[int(max(gender_ind))+1]\n",
    "    f.close()\n",
    "\n",
    "# create a list, sensitive[], that encodes the anonymized gender in the data; it is not used in this section\n",
    "sensitive = []\n",
    "for u in list_nodes:\n",
    "    if (gender[u] == '1'):\n",
    "        sensitive.append(1)\n",
    "    else:\n",
    "        sensitive.append(0)\n",
    "sensitive = np.array(sensitive)\n",
    "sensitive\n",
    "'''\n",
    "\n",
    "#Highschool dataset:\n",
    "filename = 'Highschool-clusteringgames-utilities-conductance.csv'\n",
    "\n",
    "# read in the data as a graph\n",
    "G_og = nx.read_edgelist('Friendship-network_data_2013.csv')\n",
    "\n",
    "# get the largest connected component of the graph\n",
    "gg = sorted(nx.connected_components(G_og),key=len,reverse=True)[0]\n",
    "Gbig = G_og.subgraph(gg)\n",
    "G_SBM = Gbig.copy()\n",
    "\n",
    "# find the sensitive features (unanonymized gender) and place it in a dictionary\n",
    "gender = {}\n",
    "\n",
    "filename_read = 'metadata_2013.txt'\n",
    "f = open(filename_read)\n",
    "reader=csv.reader(f)\n",
    "\n",
    "for row in reader:\n",
    "    myrow = row[0].split('\\t')\n",
    "    gender[myrow[0]] = myrow[2]\n",
    "\n",
    "list_init = list(G_SBM.nodes())\n",
    "for u in list_init:\n",
    "    if gender[u] == 'Unknown':\n",
    "        G_SBM.remove_node(u)\n",
    "        \n",
    "# find the spectrum of the graph\n",
    "list_nodes = list(G_SBM.nodes())\n",
    "\n",
    "m = 0 \n",
    "f = 0\n",
    "d = {} \n",
    "for u in G_SBM.nodes():\n",
    "    if gender[u] == 'M':\n",
    "        d[u] = 'r'\n",
    "        m += 1\n",
    "    elif gender[u] == 'F':\n",
    "        d[u] = 'b'\n",
    "        f += 1\n",
    "print('female: ', f)\n",
    "print('male: ', m)\n",
    "\n",
    "nx.set_node_attributes(G_SBM, d, name=\"color\")\n",
    "\n"
   ]
  },
  {
   "cell_type": "code",
   "execution_count": 15,
   "id": "eab9a487",
   "metadata": {},
   "outputs": [
    {
     "data": {
      "text/plain": [
       "0.4015748031496063"
      ]
     },
     "execution_count": 15,
     "metadata": {},
     "output_type": "execute_result"
    }
   ],
   "source": [
    "m/(f+m)"
   ]
  },
  {
   "cell_type": "code",
   "execution_count": 8,
   "id": "55b18611",
   "metadata": {},
   "outputs": [],
   "source": [
    "# this code puts the sensitive attributes in a matrix; this is useful for comparing with the fair spectral clustering algorithm from http://proceedings.mlr.press/v97/kleindessner19b.html\n",
    "sensitive = []\n",
    "for u in list_nodes:\n",
    "    if gender[u] == 'F':\n",
    "        sensitive.append(1)\n",
    "    else:\n",
    "        sensitive.append(0)\n",
    "sensitive = np.array(sensitive)"
   ]
  },
  {
   "cell_type": "code",
   "execution_count": 9,
   "id": "f29c088d",
   "metadata": {},
   "outputs": [
    {
     "data": {
      "text/plain": [
       "'Graph with 127 nodes and 396 edges'"
      ]
     },
     "execution_count": 9,
     "metadata": {},
     "output_type": "execute_result"
    }
   ],
   "source": [
    "nx.info(G_SBM)"
   ]
  },
  {
   "attachments": {},
   "cell_type": "markdown",
   "id": "dd98a275",
   "metadata": {},
   "source": [
    "## The next cell should be ran; loops through iterations while fixing negative cycles "
   ]
  },
  {
   "cell_type": "code",
   "execution_count": 50,
   "id": "db62cfe2",
   "metadata": {},
   "outputs": [
    {
     "name": "stdout",
     "output_type": "stream",
     "text": [
      "[1, 2]\n",
      "[0 0 0 0 0 0 0 0 0 0 0 0 0 0 1 1 0 0 0 0 0 0 0 1 1 1 1 1 1 1 1 1 0 0 0 0 0\n",
      " 0 0 0 0 0 0 0 0 0 0 1 1 0 0 0 0 0 0 0 0 0 0 0 1 0 0 0 0 0 1 1 0 0 0 0 0 0\n",
      " 0 0 0 1 1 1 1 1 1 0 0 0 1 1 1 1 1 1 1 1 1 1 1 0 0 1 0 0 1 0 0 1 0 0 0 1 1\n",
      " 1 1 1 1 1 0 0 0 1 1 1 1 1 1 1 1]\n",
      "Iteration number:  0\n",
      "Balance:  0.3931888544891641\n",
      "Average cost:  1.1903907713067448\n",
      "we're finding Mlow\n",
      "best cycle:  ['222', 128, 129, 127, '222']\n",
      "best cycle node indices:  [106, 128, 129, 127, 106]\n",
      "cost weight of the best cycle:  0.0007789029593255892 [0.00845833526800377, 0, 0, -0.00767943230867818]\n",
      "balance weight of the best cycle:  -0.014391521790902584 [-0.010180995475113142, 0, 0, -0.004210526315789442]\n",
      "Balance:  0.40038461538461534\n",
      "Average cost:  1.1911696742660702\n",
      "['222', 127, 129, 128, '222']\n",
      "cost weight of the neg cycle:  -0.0007789029593255892 [0.00767943230867818, 0, 0, -0.00845833526800377]\n",
      "balance weight of the neg cycle:  0.014391521790902584 [0.004210526315789442, 0, 0, 0.010180995475113142]\n",
      "neg cycle, alpha is  0.1282446972102498\n",
      "compute metric with alpha for C0:  1.139966385716337\n",
      "compute metric with alpha for C1:  1.1398224704984279\n",
      "we're finding Mlow\n",
      "best cycle:  ['845', 128, 129, 127, '845']\n",
      "best cycle node indices:  [68, 128, 129, 127, 68]\n",
      "cost weight of the best cycle:  0.00025208990000000035 [0.0111284661, 0.0, 0.0, -0.0108763762]\n",
      "balance weight of the best cycle:  -0.014121131290942668 [-0.009796806966618277, 0, 0, -0.004324324324324391]\n",
      "Balance:  0.4074451810300867\n",
      "Average cost:  1.193232724439454\n",
      "['845', 127, 129, 128, '845']\n",
      "cost weight of the neg cycle:  -0.002063050173383707 [0.010321804507956833, 0, 0, -0.01238485468134054]\n",
      "balance weight of the neg cycle:  0.014121131290942668 [0.004324324324324391, 0, 0, 0.009796806966618277]\n",
      "neg cycle, alpha is  0.3121933279817398\n",
      "compute metric with alpha for C0:  1.0661722687164583\n",
      "compute metric with alpha for C1:  1.0660310574035488\n",
      "[128, '92', '211', 128]\n",
      "negative t-cycle was not fixed:  -0.0034814829\n",
      "neg cycle was not fixed, these are the weights:  [-0.0094373033, -0.0014885803, 0.0074444007] [-0.009433962264150941, -0.013513513513513487, -0.009433962264150941]\n",
      "Cost when correcting a negative cycle:  1.199860510492235\n",
      "Balance when correcting a negative cycle:  0.41420193778684344\n",
      "compute metric for following the neg cycle:  1.0705494290780748\n",
      "[128, '211', '92', 128]\n",
      "negative t-cycle was not fixed:  -0.0082993975\n",
      "neg cycle was not fixed, these are the weights:  [-0.0133348409, 0.0014885803, 0.0035468631] [-0.009433962264150941, 0.013513513513513487, -0.009433962264150941]\n",
      "Cost when correcting a negative cycle:  1.193232724439454\n",
      "Balance when correcting a negative cycle:  0.4074451810300867\n",
      "compute metric for following the neg cycle:  1.0660310574035488\n",
      "[128, '92', '211', 128]\n",
      "negative t-cycle was not fixed:  -0.0034814829\n",
      "neg cycle was not fixed, these are the weights:  [-0.0094373033, -0.0014885803, 0.0074444007] [-0.009433962264150941, -0.013513513513513487, -0.009433962264150941]\n",
      "Cost when correcting a negative cycle:  1.199860510492235\n",
      "Balance when correcting a negative cycle:  0.41420193778684344\n",
      "compute metric for following the neg cycle:  1.0705494290780748\n",
      "[128, '211', '92', 128]\n",
      "negative t-cycle was not fixed:  -0.0082993975\n",
      "neg cycle was not fixed, these are the weights:  [-0.0133348409, 0.0014885803, 0.0035468631] [-0.009433962264150941, 0.013513513513513487, -0.009433962264150941]\n",
      "Cost when correcting a negative cycle:  1.193232724439454\n",
      "Balance when correcting a negative cycle:  0.4074451810300867\n",
      "compute metric for following the neg cycle:  1.0660310574035488\n",
      "[128, '92', '211', 128]\n",
      "negative t-cycle was not fixed:  -0.0034814829\n",
      "neg cycle was not fixed, these are the weights:  [-0.0094373033, -0.0014885803, 0.0074444007] [-0.009433962264150941, -0.013513513513513487, -0.009433962264150941]\n",
      "Cost when correcting a negative cycle:  1.199860510492235\n",
      "Balance when correcting a negative cycle:  0.41420193778684344\n",
      "compute metric for following the neg cycle:  1.0705494290780748\n",
      "[128, '211', '92', 128]\n",
      "negative t-cycle was not fixed:  -0.0082993975\n",
      "neg cycle was not fixed, these are the weights:  [-0.0133348409, 0.0014885803, 0.0035468631] [-0.009433962264150941, 0.013513513513513487, -0.009433962264150941]\n",
      "Cost when correcting a negative cycle:  1.193232724439454\n",
      "Balance when correcting a negative cycle:  0.4074451810300867\n",
      "compute metric for following the neg cycle:  1.0660310574035488\n",
      "[128, '92', '211', 128]\n",
      "negative t-cycle was not fixed:  -0.0034814829\n",
      "neg cycle was not fixed, these are the weights:  [-0.0094373033, -0.0014885803, 0.0074444007] [-0.009433962264150941, -0.013513513513513487, -0.009433962264150941]\n",
      "Cost when correcting a negative cycle:  1.199860510492235\n",
      "Balance when correcting a negative cycle:  0.41420193778684344\n",
      "compute metric for following the neg cycle:  1.0705494290780748\n",
      "[128, '211', '92', 128]\n",
      "negative t-cycle was not fixed:  -0.0082993975\n",
      "neg cycle was not fixed, these are the weights:  [-0.0133348409, 0.0014885803, 0.0035468631] [-0.009433962264150941, 0.013513513513513487, -0.009433962264150941]\n",
      "Cost when correcting a negative cycle:  1.193232724439454\n",
      "Balance when correcting a negative cycle:  0.4074451810300867\n",
      "compute metric for following the neg cycle:  1.0660310574035488\n",
      "[128, '92', '211', 128]\n",
      "negative t-cycle was not fixed:  -0.0034814829\n",
      "neg cycle was not fixed, these are the weights:  [-0.0094373033, -0.0014885803, 0.0074444007] [-0.009433962264150941, -0.013513513513513487, -0.009433962264150941]\n",
      "Cost when correcting a negative cycle:  1.199860510492235\n",
      "Balance when correcting a negative cycle:  0.41420193778684344\n",
      "compute metric for following the neg cycle:  1.0705494290780748\n",
      "[128, '211', '92', 128]\n",
      "negative t-cycle was not fixed:  -0.0082993975\n",
      "neg cycle was not fixed, these are the weights:  [-0.0133348409, 0.0014885803, 0.0035468631] [-0.009433962264150941, 0.013513513513513487, -0.009433962264150941]\n",
      "Cost when correcting a negative cycle:  1.193232724439454\n",
      "Balance when correcting a negative cycle:  0.4074451810300867\n",
      "compute metric for following the neg cycle:  1.0660310574035488\n",
      "[128, '92', '211', 128]\n",
      "negative t-cycle was not fixed:  -0.0034814829\n",
      "neg cycle was not fixed, these are the weights:  [-0.0094373033, -0.0014885803, 0.0074444007] [-0.009433962264150941, -0.013513513513513487, -0.009433962264150941]\n",
      "Cost when correcting a negative cycle:  1.199860510492235\n",
      "Balance when correcting a negative cycle:  0.41420193778684344\n",
      "compute metric for following the neg cycle:  1.0705494290780748\n",
      "[128, '211', '92', 128]\n",
      "negative t-cycle was not fixed:  -0.0082993975\n",
      "neg cycle was not fixed, these are the weights:  [-0.0133348409, 0.0014885803, 0.0035468631] [-0.009433962264150941, 0.013513513513513487, -0.009433962264150941]\n",
      "Cost when correcting a negative cycle:  1.193232724439454\n",
      "Balance when correcting a negative cycle:  0.4074451810300867\n",
      "compute metric for following the neg cycle:  1.0660310574035488\n"
     ]
    },
    {
     "ename": "KeyboardInterrupt",
     "evalue": "",
     "output_type": "error",
     "traceback": [
      "\u001b[0;31m---------------------------------------------------------------------------\u001b[0m",
      "\u001b[0;31mKeyboardInterrupt\u001b[0m                         Traceback (most recent call last)",
      "\u001b[0;32m/var/folders/qc/k6jgnl3532x82rw058f_4nj40002pv/T/ipykernel_92487/3772111665.py\u001b[0m in \u001b[0;36m<module>\u001b[0;34m\u001b[0m\n\u001b[1;32m    259\u001b[0m             \u001b[0mG_new\u001b[0m \u001b[0;34m=\u001b[0m \u001b[0mnx\u001b[0m\u001b[0;34m.\u001b[0m\u001b[0mDiGraph\u001b[0m\u001b[0;34m(\u001b[0m\u001b[0;34m)\u001b[0m\u001b[0;34m\u001b[0m\u001b[0;34m\u001b[0m\u001b[0m\n\u001b[1;32m    260\u001b[0m             \u001b[0mG_new\u001b[0m\u001b[0;34m.\u001b[0m\u001b[0madd_nodes_from\u001b[0m\u001b[0;34m(\u001b[0m\u001b[0mG_SBM\u001b[0m\u001b[0;34m)\u001b[0m\u001b[0;34m\u001b[0m\u001b[0;34m\u001b[0m\u001b[0m\n\u001b[0;32m--> 261\u001b[0;31m             \u001b[0mG_new\u001b[0m \u001b[0;34m=\u001b[0m \u001b[0mdoubly_weighted_G\u001b[0m\u001b[0;34m(\u001b[0m\u001b[0mG_SBM\u001b[0m\u001b[0;34m,\u001b[0m\u001b[0mG_new\u001b[0m\u001b[0;34m,\u001b[0m\u001b[0mlist_nodes\u001b[0m\u001b[0;34m,\u001b[0m\u001b[0my\u001b[0m\u001b[0;34m,\u001b[0m\u001b[0mk\u001b[0m\u001b[0;34m,\u001b[0m\u001b[0mX_dist\u001b[0m\u001b[0;34m)\u001b[0m\u001b[0;34m\u001b[0m\u001b[0;34m\u001b[0m\u001b[0m\n\u001b[0m\u001b[1;32m    262\u001b[0m \u001b[0;34m\u001b[0m\u001b[0m\n\u001b[1;32m    263\u001b[0m             \u001b[0;32mfor\u001b[0m \u001b[0me\u001b[0m \u001b[0;32min\u001b[0m \u001b[0mG_new\u001b[0m\u001b[0;34m.\u001b[0m\u001b[0medges\u001b[0m\u001b[0;34m(\u001b[0m\u001b[0;34m)\u001b[0m\u001b[0;34m:\u001b[0m\u001b[0;34m\u001b[0m\u001b[0;34m\u001b[0m\u001b[0m\n",
      "\u001b[0;32m/var/folders/qc/k6jgnl3532x82rw058f_4nj40002pv/T/ipykernel_92487/3295917266.py\u001b[0m in \u001b[0;36mdoubly_weighted_G\u001b[0;34m(G, Gnew, list_nodes_G, cluster_assignment, no_clusters, km_distances)\u001b[0m\n\u001b[1;32m    205\u001b[0m                 \u001b[0;31m#[fairness_cl_new, fairness_all_new] = compute_util_avgprop_closeness(G, list_nodes_G, no_clusters, cluster_assignment)\u001b[0m\u001b[0;34m\u001b[0m\u001b[0;34m\u001b[0m\u001b[0;34m\u001b[0m\u001b[0m\n\u001b[1;32m    206\u001b[0m                 \u001b[0;31m# use statistical parity\u001b[0m\u001b[0;34m\u001b[0m\u001b[0;34m\u001b[0m\u001b[0;34m\u001b[0m\u001b[0m\n\u001b[0;32m--> 207\u001b[0;31m                 \u001b[0;34m[\u001b[0m\u001b[0mfairness_cl_new\u001b[0m\u001b[0;34m,\u001b[0m \u001b[0mfairness_all_new\u001b[0m\u001b[0;34m]\u001b[0m \u001b[0;34m=\u001b[0m \u001b[0mcompute_balance_minprop\u001b[0m\u001b[0;34m(\u001b[0m\u001b[0mG\u001b[0m\u001b[0;34m,\u001b[0m \u001b[0mlist_nodes_G\u001b[0m\u001b[0;34m,\u001b[0m \u001b[0mno_clusters\u001b[0m\u001b[0;34m,\u001b[0m \u001b[0mcluster_assignment_copy\u001b[0m\u001b[0;34m)\u001b[0m\u001b[0;34m\u001b[0m\u001b[0;34m\u001b[0m\u001b[0m\n\u001b[0m\u001b[1;32m    208\u001b[0m                 \u001b[0mdistances_cl_new\u001b[0m \u001b[0;34m=\u001b[0m \u001b[0mcompute_avg_kdistance_cl_inertia\u001b[0m\u001b[0;34m(\u001b[0m\u001b[0mcluster_assignment_copy\u001b[0m\u001b[0;34m,\u001b[0m \u001b[0mmycl\u001b[0m\u001b[0;34m,\u001b[0m \u001b[0mkm_distances\u001b[0m\u001b[0;34m)\u001b[0m\u001b[0;34m\u001b[0m\u001b[0;34m\u001b[0m\u001b[0m\n\u001b[1;32m    209\u001b[0m \u001b[0;34m\u001b[0m\u001b[0m\n",
      "\u001b[0;32m/var/folders/qc/k6jgnl3532x82rw058f_4nj40002pv/T/ipykernel_92487/3295917266.py\u001b[0m in \u001b[0;36mcompute_balance_minprop\u001b[0;34m(G, list_nodes_G, no_clusters, cluster_assignment)\u001b[0m\n\u001b[1;32m     59\u001b[0m \u001b[0;32mdef\u001b[0m \u001b[0mcompute_balance_minprop\u001b[0m\u001b[0;34m(\u001b[0m\u001b[0mG\u001b[0m\u001b[0;34m,\u001b[0m \u001b[0mlist_nodes_G\u001b[0m\u001b[0;34m,\u001b[0m \u001b[0mno_clusters\u001b[0m\u001b[0;34m,\u001b[0m \u001b[0mcluster_assignment\u001b[0m\u001b[0;34m)\u001b[0m\u001b[0;34m:\u001b[0m\u001b[0;34m\u001b[0m\u001b[0;34m\u001b[0m\u001b[0m\n\u001b[1;32m     60\u001b[0m     \u001b[0mfairness_clusters\u001b[0m \u001b[0;34m=\u001b[0m \u001b[0;34m{\u001b[0m\u001b[0;34m}\u001b[0m\u001b[0;34m\u001b[0m\u001b[0;34m\u001b[0m\u001b[0m\n\u001b[0;32m---> 61\u001b[0;31m     \u001b[0;34m[\u001b[0m\u001b[0mcluster_sizes\u001b[0m\u001b[0;34m,\u001b[0m \u001b[0mcluster_proportion\u001b[0m\u001b[0;34m,\u001b[0m \u001b[0mcluster_majority\u001b[0m\u001b[0;34m,\u001b[0m \u001b[0mcluster_minority\u001b[0m\u001b[0;34m]\u001b[0m \u001b[0;34m=\u001b[0m \u001b[0mcluster_proportions\u001b[0m\u001b[0;34m(\u001b[0m\u001b[0mG\u001b[0m\u001b[0;34m,\u001b[0m\u001b[0mlist_nodes_G\u001b[0m\u001b[0;34m,\u001b[0m \u001b[0mno_clusters\u001b[0m\u001b[0;34m,\u001b[0m \u001b[0mcluster_assignment\u001b[0m\u001b[0;34m)\u001b[0m\u001b[0;34m\u001b[0m\u001b[0;34m\u001b[0m\u001b[0m\n\u001b[0m\u001b[1;32m     62\u001b[0m     \u001b[0;31m#[maj_no, min_no] = graph_communities(G, list_nodes_G)\u001b[0m\u001b[0;34m\u001b[0m\u001b[0;34m\u001b[0m\u001b[0;34m\u001b[0m\u001b[0m\n\u001b[1;32m     63\u001b[0m     \u001b[0;31m#maj_prop = maj_no / (maj_no + min_no)\u001b[0m\u001b[0;34m\u001b[0m\u001b[0;34m\u001b[0m\u001b[0;34m\u001b[0m\u001b[0m\n",
      "\u001b[0;32m/var/folders/qc/k6jgnl3532x82rw058f_4nj40002pv/T/ipykernel_92487/3295917266.py\u001b[0m in \u001b[0;36mcluster_proportions\u001b[0;34m(G, list_nodes_G, no_clusters, cluster_assignment)\u001b[0m\n\u001b[1;32m     19\u001b[0m         \u001b[0;32mif\u001b[0m \u001b[0mG\u001b[0m\u001b[0;34m.\u001b[0m\u001b[0mnodes\u001b[0m\u001b[0;34m[\u001b[0m\u001b[0mlist_nodes_G\u001b[0m\u001b[0;34m[\u001b[0m\u001b[0mu\u001b[0m\u001b[0;34m]\u001b[0m\u001b[0;34m]\u001b[0m\u001b[0;34m[\u001b[0m\u001b[0;34m'color'\u001b[0m\u001b[0;34m]\u001b[0m \u001b[0;34m==\u001b[0m \u001b[0;34m'b'\u001b[0m\u001b[0;34m:\u001b[0m\u001b[0;34m\u001b[0m\u001b[0;34m\u001b[0m\u001b[0m\n\u001b[1;32m     20\u001b[0m             \u001b[0mcluster_proportion\u001b[0m\u001b[0;34m[\u001b[0m\u001b[0mcluster_assignment\u001b[0m\u001b[0;34m[\u001b[0m\u001b[0mu\u001b[0m\u001b[0;34m]\u001b[0m\u001b[0;34m]\u001b[0m \u001b[0;34m+=\u001b[0m \u001b[0;36m1\u001b[0m\u001b[0;34m\u001b[0m\u001b[0;34m\u001b[0m\u001b[0m\n\u001b[0;32m---> 21\u001b[0;31m             \u001b[0mcluster_majority\u001b[0m\u001b[0;34m[\u001b[0m\u001b[0mcluster_assignment\u001b[0m\u001b[0;34m[\u001b[0m\u001b[0mu\u001b[0m\u001b[0;34m]\u001b[0m\u001b[0;34m]\u001b[0m \u001b[0;34m+=\u001b[0m \u001b[0;36m1\u001b[0m\u001b[0;34m\u001b[0m\u001b[0;34m\u001b[0m\u001b[0m\n\u001b[0m\u001b[1;32m     22\u001b[0m         \u001b[0;32melse\u001b[0m\u001b[0;34m:\u001b[0m\u001b[0;34m\u001b[0m\u001b[0;34m\u001b[0m\u001b[0m\n\u001b[1;32m     23\u001b[0m             \u001b[0mcluster_minority\u001b[0m\u001b[0;34m[\u001b[0m\u001b[0mcluster_assignment\u001b[0m\u001b[0;34m[\u001b[0m\u001b[0mu\u001b[0m\u001b[0;34m]\u001b[0m\u001b[0;34m]\u001b[0m \u001b[0;34m+=\u001b[0m \u001b[0;36m1\u001b[0m\u001b[0;34m\u001b[0m\u001b[0;34m\u001b[0m\u001b[0m\n",
      "\u001b[0;31mKeyboardInterrupt\u001b[0m: "
     ]
    }
   ],
   "source": [
    "# these are the iterations that the trade-off algorithm runs; note that beyond iteration 0, the starting clustering is no longer optimal in the optimization objective (for k-means, that means inertia)\n",
    "no_of_iterations = 100\n",
    "fairness_list = []\n",
    "cost_list = []\n",
    "\n",
    "# k is the number of clusters for spectral clustering\n",
    "#k = len(sizes) # for simulated model\n",
    "k = 2 # for the real data; needs to be varied\n",
    "\n",
    "\n",
    "# computing the spectrum of the graph\n",
    "A = nx.adjacency_matrix(G_SBM)\n",
    "# computing the normalized Laplacian of the graph\n",
    "L = nx.normalized_laplacian_matrix(G_SBM)\n",
    "L.todense()\n",
    "D = np.diag(np.sum(np.array(A.todense()), axis=1))\n",
    "\n",
    "# computing the eigenvalues and eigenvectors of the normalized Laplacian\n",
    "e, v = np.linalg.eig(L.todense())\n",
    "\n",
    "# only take the first k sorted eigenvalues (can start from 0 or from 1, since first is 0 given that we have one connected component often times)\n",
    "i = [list(e).index(j) for j in sorted(list(e))[1:k+1]]\n",
    "print(i)\n",
    "\n",
    "\n",
    "U = np.array(v[:, i])\n",
    "# performing manual spectral clustering: using the first k values of the eigenspace to do k-means \n",
    "#km = KMeans(init='k-means++', n_clusters=k, max_iter=200, n_init=200, verbose=0, random_state=3425)\n",
    "km = KMeans(init='k-means++', n_clusters=k, max_iter=200, n_init=200, verbose=0)\n",
    "\n",
    "km.fit(U)\n",
    "y = km.labels_\n",
    "# distances from the k-centers\n",
    "X_dist = km.transform(U)**2\n",
    "\n",
    "# keeping a copy of the clustering assignment\n",
    "y_copy = copy.deepcopy(y)\n",
    "print(y_copy)\n",
    "\n",
    "iteration = 0\n",
    "\n",
    "y_all = {}\n",
    "print(\"Iteration number: \",iteration)\n",
    "# compute the cost and fairness of this clustering\n",
    "# using closeness utility\n",
    "#[_,avgf] = compute_util_avgprop_closeness(G_SBM, list_nodes,k,y)\n",
    "# using statistical parity\n",
    "[_,avgf] = compute_balance_minprop(G_SBM, list_nodes,k,y)\n",
    "print(\"Balance: \", avgf)  \n",
    "\n",
    "fairness_list.append(avgf)\n",
    "[_,avgcost] = compute_avg_kdistance_inertia(y,k,X_dist)\n",
    "print(\"Average cost: \", avgcost)\n",
    "cost_list.append(avgcost)\n",
    "#if avgf == 0:\n",
    "#    break\n",
    "# generating G_new with double weights\n",
    "G_new = nx.DiGraph()\n",
    "G_new.add_nodes_from(G_SBM)\n",
    "G_new = doubly_weighted_G(G_SBM,G_new,list_nodes,y,k,X_dist)\n",
    "list_nodes_Gnew = list(G_new.nodes())\n",
    "\n",
    "# length = {}\n",
    "# dis = {}\n",
    "# pre = {} \n",
    "result = SPFA2(G_new)\n",
    "\n",
    "while iteration < no_of_iterations: \n",
    "\n",
    "  \n",
    "    print(\"we're finding Mlow\")\n",
    "\n",
    "    Mfind = 1\n",
    "    G_M = create_M_graph(G_SBM,G_new, Mfind)\n",
    "    mresult = SPFA(G_M)\n",
    "    if(len(mresult) != 3):\n",
    "        Mfind = 0\n",
    "        G_M = create_M_graph(G_SBM,G_new, Mfind)\n",
    "        assert(len(SPFA(G_M)) == 3)\n",
    "    else:\n",
    "        while True:\n",
    "            G_M = create_M_graph(G_SBM,G_new, Mfind)\n",
    "            if SPFA(G_M) == 'no negative cycle detected':\n",
    "                break\n",
    "            Mfind *= 2\n",
    "\n",
    "    # at this point, we perform a binary search \n",
    "    # initialize M and the limits for the binary search\n",
    "    M = Mfind/2\n",
    "    delta = Mfind/2\n",
    "    low = Mfind/2\n",
    "    high = Mfind\n",
    "\n",
    "    # binary search to find M for which there is a cycle of length 0\n",
    "    termination_condition = 10e-12\n",
    "    mids = []\n",
    "    while np.abs(delta) > termination_condition:\n",
    "        if high > low: \n",
    "            mid = (high + low) / 2\n",
    "            mids.append(mid)\n",
    "        G_M = create_M_graph(G_SBM,G_new, mid)\n",
    "        if SPFA(G_M) == 'no negative cycle detected':\n",
    "            delta = mid - low\n",
    "            high = mid\n",
    "        else:\n",
    "            delta = high - mid\n",
    "            low = mid\n",
    "        #print(delta)\n",
    "    whereinmidsweare = 0\n",
    "    for mm in reversed(mids):\n",
    "        whereinmidsweare += 1\n",
    "        G_M = create_M_graph(G_SBM,G_new, mm)\n",
    "        if len(SPFA(G_M)) == 3:\n",
    "            break\n",
    "        if whereinmidsweare == len(mids):\n",
    "            break\n",
    "    M=mm\n",
    "\n",
    "    G_M = create_M_graph(G_SBM,G_new, M)\n",
    "    [v,pre,stri]=SPFA(G_M)\n",
    "    # this is the best cycle that, if followed, will get us the next best clustering with the minimal ratio of cost loss to fairness/utility increase\n",
    "    myc = Trace(pre,v)\n",
    "    print(\"best cycle: \",myc)\n",
    "    ytest = copy.deepcopy(y)\n",
    "\n",
    "    myc2 = copy.deepcopy(myc)\n",
    "    # we 'follow' the best cycle in order to find that next best clustering, and will compute the cost and fairness/utility as we start the loop again in the next iteration\n",
    "    for i in range(len(myc)): \n",
    "        if type(myc[i]) == str:\n",
    "            myc2[i] = list_nodes.index(myc[i])\n",
    "    for i in range(len(myc2)):\n",
    "        #print(myc2[i])\n",
    "        if myc2[i] < len(G_SBM.nodes()):\n",
    "            if i == len(myc2) - 1:\n",
    "                break\n",
    "            if myc2[i+1] < len(G_SBM.nodes()):\n",
    "                #a = y[myc2[i]]\n",
    "                ytest[myc2[i]] = y[myc2[i+1]]\n",
    "            if myc2[i + 1] >= len(G_SBM.nodes()) and myc2[i+1] < len(G_SBM.nodes()) + k:\n",
    "                #print(myc2[i+1])\n",
    "                ytest[myc2[i]] = myc2[i+1] % len(G_SBM.nodes())\n",
    "    y = copy.deepcopy(ytest)\n",
    "    y_all[iteration] = y\n",
    "    print(\"best cycle node indices: \", myc2)\n",
    "\n",
    "    # sumcycle = 0\n",
    "    t_weights = []\n",
    "    a_weights = []\n",
    "    for i in range(len(negt) - 1):\n",
    "        # sumcycle += G_new[negt[i]][negt[i+1]]['tuv']\n",
    "        t_weights.append(G_new[myc[i]][myc[i+1]]['tuv'])\n",
    "        a_weights.append(G_new[myc[i]][myc[i+1]]['auv'])\n",
    "    print('cost weight of the best cycle: ', np.sum(t_weights), t_weights)\n",
    "    print('balance weight of the best cycle: ', np.sum(a_weights), a_weights)\n",
    "\n",
    "    iteration += 1\n",
    "\n",
    "    # this is only for moving centroids \n",
    "    # new_centers = np.array(compute_centroids_manually(U, y,k))\n",
    "    # X_dist = compute_km_distances(U,new_centers,k)\n",
    "    \n",
    "    [_,avgf] = compute_balance_minprop(G_SBM, list_nodes,k,y)\n",
    "    print(\"Balance: \", avgf)  \n",
    "\n",
    "    fairness_list.append(avgf)\n",
    "    [_,avgcost] = compute_avg_kdistance_inertia(y,k,X_dist)\n",
    "    print(\"Average cost: \", avgcost)\n",
    "    cost_list.append(avgcost)\n",
    "    # if avgf == 0:\n",
    "    #     break\n",
    "    # generating G_new with double weights\n",
    "    G_new = nx.DiGraph()\n",
    "    G_new.add_nodes_from(G_SBM)\n",
    "    G_new = doubly_weighted_G(G_SBM,G_new,list_nodes,y,k,X_dist)\n",
    "    list_nodes_Gnew = list(G_new.nodes())\n",
    "\n",
    "    # length = {}\n",
    "    # dis = {}\n",
    "    # pre = {} \n",
    "    result = SPFA2(G_new)\n",
    "\n",
    "    if len(result) == 3:\n",
    "        [vv,pre,stri] = result\n",
    "        negt = Trace(pre,vv)\n",
    "        print(negt)\n",
    "        # compute the fairness and cost weights of the negative cycle that we find\n",
    "        t_weights = []\n",
    "        a_weights = []\n",
    "        for i in range(len(negt) - 1):\n",
    "            # sumcycle += G_new[negt[i]][negt[i+1]]['tuv']\n",
    "            t_weights.append(G_new[negt[i]][negt[i+1]]['tuv'])\n",
    "            a_weights.append(G_new[negt[i]][negt[i+1]]['auv'])\n",
    "        print('cost weight of the neg cycle: ', np.sum(t_weights), t_weights)\n",
    "        print('balance weight of the neg cycle: ', np.sum(a_weights), a_weights)\n",
    "\n",
    "\n",
    "        # alpha = (cost_list[iteration-1] - cost_list[iteration]) / (fairness_list[iteration] - fairness_list[iteration - 1])\n",
    "        alpha = (cost_list[iteration-1] - cost_list[iteration]) / (fairness_list[iteration - 1] - fairness_list[iteration])\n",
    "        alpha += 2e-2 # 2e-5\n",
    "        print(\"neg cycle, alpha is \", alpha)\n",
    "        # print(\"compute metric with alpha for C0: \", cost_list[iteration-1] + alpha*fairness_list[iteration - 1])\n",
    "        # print(\"compute metric with alpha for C1: \", cost_list[iteration] + alpha*fairness_list[iteration])\n",
    "        # this is for closeness utility when the metric goes up as we move down the pareto curve\n",
    "        print(\"compute metric with alpha for C0: \", cost_list[iteration-1] - alpha*fairness_list[iteration - 1])\n",
    "        print(\"compute metric with alpha for C1: \", cost_list[iteration] - alpha*fairness_list[iteration])\n",
    "        for e in G_new.edges():\n",
    "            # NOTE: this is - instead of + because we are maximizing balance instead of minizing fairness like before \n",
    "            G_new[e[0]][e[1]]['tuv'] += alpha* G_new[e[0]][e[1]]['auv']\n",
    "            G_new[e[0]][e[1]]['tuv'] = round(G_new[e[0]][e[1]]['tuv'],10)   \n",
    "        \n",
    "        newresult = SPFA2(G_new) \n",
    "        while len(newresult) == 3:\n",
    "            [vv,pre,stri] = newresult\n",
    "            negt = Trace(pre,vv)\n",
    "            print(negt)\n",
    "            sumcycle = 0\n",
    "            t_weights_negt = []\n",
    "            a_weights_negt = []\n",
    "            for i in range(len(negt) - 1):\n",
    "                sumcycle += G_new[negt[i]][negt[i+1]]['tuv']\n",
    "                t_weights_negt.append(G_new[negt[i]][negt[i+1]]['tuv'])\n",
    "                a_weights_negt.append(G_new[negt[i]][negt[i+1]]['auv'])\n",
    "            print(\"negative t-cycle was not fixed: \", sumcycle)\n",
    "            print(\"neg cycle was not fixed, these are the weights: \", t_weights_negt, a_weights_negt)\n",
    "            \n",
    "            y_neg = copy.deepcopy(y)\n",
    "            negt2 = copy.deepcopy(negt)\n",
    "            for i in range(len(negt)): \n",
    "                if type(negt[i]) == str:\n",
    "                    negt2[i] = list_nodes.index(negt[i])\n",
    "            for i in range(len(negt2)):\n",
    "                if negt2[i] < len(G_SBM.nodes()):\n",
    "                    if i == len(negt2) - 1:\n",
    "                        break\n",
    "                    if negt2[i+1] < len(G_SBM.nodes()):\n",
    "                        y_neg[negt2[i]] = y[negt2[i+1]]\n",
    "                    if negt2[i + 1] >= len(G_SBM.nodes()) and negt2[i+1] < len(G_SBM.nodes()) + k:\n",
    "                        y_neg[negt2[i]] = negt2[i+1] % len(G_SBM.nodes())\n",
    "\n",
    "            # this is when we also update the centroids \n",
    "            # new_centers = np.array(compute_centroids_manually(U, y_neg,k))\n",
    "            # X_dist = compute_km_distances(U,new_centers,k)\n",
    "            \n",
    "            _,avgdistneg = compute_avg_kdistance_inertia(y_neg, k, X_dist)\n",
    "            # using closeness utility\n",
    "            #_,avgfairnessneg = compute_util_avgprop_closeness(G_SBM, list_nodes,k,y_neg)\n",
    "            # using statistical parity\n",
    "            _,avgfairnessneg = compute_balance_minprop(G_SBM, list_nodes,k,y_neg)\n",
    "            print(\"Cost when correcting a negative cycle: \", avgdistneg)\n",
    "            print(\"Balance when correcting a negative cycle: \", avgfairnessneg)\n",
    "            print(\"compute metric for following the neg cycle: \", avgdistneg - alpha*avgfairnessneg)\n",
    "\n",
    "            y = copy.deepcopy(y_neg)\n",
    "            \n",
    "            cost_list.append(avgdistneg)\n",
    "            fairness_list.append(avgfairnessneg)\n",
    "            iteration += 1 \n",
    "            \n",
    "            G_new = nx.DiGraph()\n",
    "            G_new.add_nodes_from(G_SBM)\n",
    "            G_new = doubly_weighted_G(G_SBM,G_new,list_nodes,y,k,X_dist)\n",
    "\n",
    "            for e in G_new.edges():\n",
    "                \n",
    "                #G_new[e[0]][e[1]]['tuv'] += G_new[e[0]][e[1]]['auv']/(myM+epsilon)\n",
    "                # NOTE: this is - instead of + because we are maximizing fairness instead of minimizing \n",
    "                G_new[e[0]][e[1]]['tuv'] += alpha* G_new[e[0]][e[1]]['auv']\n",
    "                G_new[e[0]][e[1]]['tuv'] = round(G_new[e[0]][e[1]]['tuv'],10)\n",
    "\n",
    "            list_nodes_Gnew = list(G_new.nodes())\n",
    "            newresult = SPFA2(G_new) # TODO: IS THIS THE ISSUE? \n",
    "            # need to update the iteration number \n"
   ]
  },
  {
   "cell_type": "code",
   "execution_count": 63,
   "id": "9526a8fa",
   "metadata": {},
   "outputs": [
    {
     "data": {
      "text/plain": [
       "0"
      ]
     },
     "execution_count": 63,
     "metadata": {},
     "output_type": "execute_result"
    }
   ],
   "source": [
    "y[list_nodes.index('211')]"
   ]
  },
  {
   "cell_type": "code",
   "execution_count": 64,
   "id": "60b91057",
   "metadata": {},
   "outputs": [],
   "source": [
    "y_exchange = copy.deepcopy(y)"
   ]
  },
  {
   "cell_type": "code",
   "execution_count": 65,
   "id": "5954b79c",
   "metadata": {},
   "outputs": [],
   "source": [
    "y_exchange[list_nodes.index('211')] = 1\n",
    "y_exchange[list_nodes.index('92')] = 0"
   ]
  },
  {
   "cell_type": "code",
   "execution_count": 72,
   "id": "8d1fd994",
   "metadata": {},
   "outputs": [],
   "source": [
    "G_1 = nx.DiGraph()\n",
    "G_1.add_nodes_from(G_SBM)\n",
    "G_2 = nx.DiGraph()\n",
    "G_2.add_nodes_from(G_SBM)\n",
    "G_1 = doubly_weighted_G(G_SBM,G_1,list_nodes,y,k,X_dist)\n",
    "G_2 = doubly_weighted_G(G_SBM,G_2,list_nodes,y_exchange,k,X_dist)"
   ]
  },
  {
   "cell_type": "code",
   "execution_count": 85,
   "id": "44e63e3c",
   "metadata": {},
   "outputs": [
    {
     "name": "stdout",
     "output_type": "stream",
     "text": [
      "[-0.010389620821501744, -0.0027302484268680316, 0.006492083195588472] -0.006627786052781304\n"
     ]
    }
   ],
   "source": [
    "cyc = [128, '211', '92', 128]\n",
    "# cyc = [127, '92', '211', 127]\n",
    "t_weights_negt = []\n",
    "a_weights_negt = []\n",
    "sumcycle = 0\n",
    "for i in range(len(cyc) - 1):\n",
    "    sumcycle += G_2[cyc[i]][cyc[i+1]]['tuv']\n",
    "    t_weights_negt.append(G_2[cyc[i]][cyc[i+1]]['tuv'])\n",
    "print(t_weights_negt, sumcycle)"
   ]
  },
  {
   "cell_type": "code",
   "execution_count": 84,
   "id": "55c2e9b3",
   "metadata": {},
   "outputs": [
    {
     "name": "stdout",
     "output_type": "stream",
     "text": [
      "[-0.006492083195588694, 0.0027302484268680316, 0.010389620821501522] 0.00662778605278086\n"
     ]
    }
   ],
   "source": [
    "# cyc = [128, '211', '92', 128]\n",
    "cyc = [128, '92', '211', 128]\n",
    "t_weights_negt = []\n",
    "a_weights_negt = []\n",
    "sumcycle = 0\n",
    "for i in range(len(cyc) - 1):\n",
    "    sumcycle += G_1[cyc[i]][cyc[i+1]]['tuv']\n",
    "    t_weights_negt.append(G_1[cyc[i]][cyc[i+1]]['tuv'])\n",
    "print(t_weights_negt, sumcycle)"
   ]
  },
  {
   "cell_type": "code",
   "execution_count": 86,
   "id": "52e194f3",
   "metadata": {},
   "outputs": [],
   "source": [
    "newresult = SPFA2(G_1)\n"
   ]
  },
  {
   "cell_type": "code",
   "execution_count": 88,
   "id": "d50ff7bf",
   "metadata": {},
   "outputs": [
    {
     "name": "stdout",
     "output_type": "stream",
     "text": [
      "['845', 127, 129, 128, '845']\n"
     ]
    }
   ],
   "source": [
    "[vv,pre,stri] = newresult\n",
    "negt = Trace(pre,vv)\n",
    "print(negt)"
   ]
  },
  {
   "cell_type": "code",
   "execution_count": 83,
   "id": "d773619a",
   "metadata": {},
   "outputs": [
    {
     "data": {
      "text/plain": [
       "0.00662778605278086"
      ]
     },
     "execution_count": 83,
     "metadata": {},
     "output_type": "execute_result"
    }
   ],
   "source": [
    "0.010389620821501522 + 0.0027302484268680316 - 0.006492083195588694"
   ]
  },
  {
   "cell_type": "code",
   "execution_count": 75,
   "id": "a3a1bf58",
   "metadata": {},
   "outputs": [
    {
     "data": {
      "text/plain": [
       "{'auv': 0.013513513513513487, 'tuv': -0.003088381174760124}"
      ]
     },
     "execution_count": 75,
     "metadata": {},
     "output_type": "execute_result"
    }
   ],
   "source": [
    "G_2['222']['92'] # why are these two different?? "
   ]
  },
  {
   "cell_type": "code",
   "execution_count": 77,
   "id": "4c12222d",
   "metadata": {},
   "outputs": [
    {
     "data": {
      "text/plain": [
       "{'auv': 0.0, 'tuv': -0.0019662520724154087}"
      ]
     },
     "execution_count": 77,
     "metadata": {},
     "output_type": "execute_result"
    }
   ],
   "source": [
    "G_2['92']['222']"
   ]
  },
  {
   "cell_type": "code",
   "execution_count": 76,
   "id": "8210cdc2",
   "metadata": {},
   "outputs": [
    {
     "data": {
      "text/plain": [
       "{'auv': -0.009433962264150941, 'tuv': 0.006492083195588472}"
      ]
     },
     "execution_count": 76,
     "metadata": {},
     "output_type": "execute_result"
    }
   ],
   "source": [
    "G_2['92'][128]"
   ]
  },
  {
   "cell_type": "code",
   "execution_count": 19,
   "id": "c9bf55ca",
   "metadata": {},
   "outputs": [
    {
     "data": {
      "text/plain": [
       "[1.1903907713067448,\n",
       " 1.191571441421923,\n",
       " 1.1943354657690597,\n",
       " 1.2005660876760293,\n",
       " 1.2397743111654385,\n",
       " 1.2506396883486721,\n",
       " 1.2647537312768538,\n",
       " 1.2846967112893908,\n",
       " 1.3154948234501525,\n",
       " 1.3576605942391586,\n",
       " 1.3853324117956927,\n",
       " 1.436302096641356,\n",
       " 1.471224807375668,\n",
       " 1.5202147032215092,\n",
       " 1.5671126559908504,\n",
       " 1.6067283544493751,\n",
       " 1.6298730393358585,\n",
       " 1.6582365918875257,\n",
       " 1.6865644253537768,\n",
       " 1.715750264610161,\n",
       " 1.7556964679847653,\n",
       " 1.7972528340242455,\n",
       " 1.8444203628069589,\n",
       " 1.874332310392373,\n",
       " 1.884124989388066,\n",
       " 1.8767297292694536,\n",
       " 1.8890717232359735,\n",
       " 1.9008776092650388,\n",
       " 1.9135818826391597]"
      ]
     },
     "execution_count": 19,
     "metadata": {},
     "output_type": "execute_result"
    }
   ],
   "source": [
    "cost_list"
   ]
  },
  {
   "cell_type": "code",
   "execution_count": 20,
   "id": "2ec31b3c",
   "metadata": {},
   "outputs": [
    {
     "data": {
      "text/plain": [
       "[0.3157894736842105,\n",
       " 0.3116883116883117,\n",
       " 0.3026315789473685,\n",
       " 0.2987012987012987,\n",
       " 0.2857142857142857,\n",
       " 0.28205128205128205,\n",
       " 0.2784810126582279,\n",
       " 0.26582278481012656,\n",
       " 0.25316455696202533,\n",
       " 0.240506329113924,\n",
       " 0.22784810126582278,\n",
       " 0.21518987341772156,\n",
       " 0.20253164556962022,\n",
       " 0.189873417721519,\n",
       " 0.17721518987341767,\n",
       " 0.16455696202531644,\n",
       " 0.15189873417721522,\n",
       " 0.1392405063291139,\n",
       " 0.12658227848101267,\n",
       " 0.11392405063291144,\n",
       " 0.10126582278481011,\n",
       " 0.08333333333333333,\n",
       " 0.0625,\n",
       " 0.041666666666666664,\n",
       " 0.020833333333333332,\n",
       " 0.0,\n",
       " 0.0,\n",
       " 0.0,\n",
       " 0.0]"
      ]
     },
     "execution_count": 20,
     "metadata": {},
     "output_type": "execute_result"
    }
   ],
   "source": [
    "fairness_list "
   ]
  },
  {
   "cell_type": "code",
   "execution_count": 37,
   "id": "9c94b72a",
   "metadata": {},
   "outputs": [
    {
     "data": {
      "text/plain": [
       "[1.4537553911824257,\n",
       " 1.458243022449849,\n",
       " 1.462650466295368,\n",
       " 1.4673871946138033,\n",
       " 1.4755614033522608,\n",
       " 1.4874193844277088,\n",
       " 1.5185009490386008,\n",
       " 1.5385865156067706,\n",
       " 1.559966146859059,\n",
       " 1.580399874006871,\n",
       " 1.6023020541753685,\n",
       " 1.6266422723403888,\n",
       " 1.664994295527305,\n",
       " 1.7039628671872042,\n",
       " 1.7501256303642339,\n",
       " 1.8050745736389788,\n",
       " 2.0587808442066784,\n",
       " 2.214067005694239]"
      ]
     },
     "execution_count": 37,
     "metadata": {},
     "output_type": "execute_result"
    }
   ],
   "source": [
    "c_vals"
   ]
  },
  {
   "attachments": {},
   "cell_type": "markdown",
   "id": "19386258",
   "metadata": {},
   "source": [
    "### Running iterations manually for k = 5 to debug "
   ]
  },
  {
   "cell_type": "code",
   "execution_count": 89,
   "id": "c36144fd",
   "metadata": {},
   "outputs": [
    {
     "name": "stdout",
     "output_type": "stream",
     "text": [
      "[1, 2]\n",
      "[0 0 0 0 0 0 0 0 0 0 0 0 0 0 1 1 0 0 0 0 0 0 0 1 1 1 1 1 1 1 1 1 0 0 0 0 0\n",
      " 0 0 0 0 0 0 0 0 0 0 1 1 0 0 0 0 0 0 0 0 0 0 0 1 0 0 0 0 0 1 1 0 0 0 0 0 0\n",
      " 0 0 0 1 1 1 1 1 1 0 0 0 1 1 1 1 1 1 1 1 1 1 1 0 0 1 0 0 1 0 0 1 0 0 0 1 1\n",
      " 1 1 1 1 1 0 0 0 1 1 1 1 1 1 1 1]\n"
     ]
    }
   ],
   "source": [
    "# these are the iterations that the trade-off algorithm runs; note that beyond iteration 0, the starting clustering is no longer optimal in the optimization objective (for k-means, that means inertia)\n",
    "no_of_iterations = 20\n",
    "fairness_list = []\n",
    "cost_list = []\n",
    "\n",
    "# k is the number of clusters for spectral clustering\n",
    "#k = len(sizes) # for simulated model\n",
    "k = 2 # for the real data; needs to be varied\n",
    "\n",
    "\n",
    "# computing the spectrum of the graph\n",
    "A = nx.adjacency_matrix(G_SBM)\n",
    "# computing the normalized Laplacian of the graph\n",
    "L = nx.normalized_laplacian_matrix(G_SBM)\n",
    "L.todense()\n",
    "D = np.diag(np.sum(np.array(A.todense()), axis=1))\n",
    "\n",
    "# computing the eigenvalues and eigenvectors of the normalized Laplacian\n",
    "e, v = np.linalg.eig(L.todense())\n",
    "\n",
    "# only take the first k sorted eigenvalues (can start from 0 or from 1, since first is 0 given that we have one connected component often times)\n",
    "i = [list(e).index(j) for j in sorted(list(e))[1:k+1]]\n",
    "print(i)\n",
    "\n",
    "\n",
    "U = np.array(v[:, i])\n",
    "# performing manual spectral clustering: using the first k values of the eigenspace to do k-means \n",
    "#km = KMeans(init='k-means++', n_clusters=k, max_iter=200, n_init=200, verbose=0, random_state=3425)\n",
    "km = KMeans(init='k-means++', n_clusters=k, max_iter=200, n_init=200, verbose=0)\n",
    "\n",
    "km.fit(U)\n",
    "y = km.labels_\n",
    "# distances from the k-centers\n",
    "X_dist = km.transform(U)**2\n",
    "\n",
    "# keeping a copy of the clustering assignment\n",
    "y_og = copy.deepcopy(y)\n",
    "print(y_og)\n"
   ]
  },
  {
   "cell_type": "code",
   "execution_count": 90,
   "id": "86db7bd7",
   "metadata": {},
   "outputs": [],
   "source": [
    "iteration = 0"
   ]
  },
  {
   "cell_type": "code",
   "execution_count": 91,
   "id": "0ab63a8b",
   "metadata": {},
   "outputs": [
    {
     "name": "stdout",
     "output_type": "stream",
     "text": [
      "Iteration number:  0\n",
      "Average unfairness:  0.3931888544891641\n",
      "Average cost:  1.1903907713067448\n"
     ]
    }
   ],
   "source": [
    "print(\"Iteration number: \",iteration)\n",
    "# compute the cost and fairness of this clustering\n",
    "# using closeness utility\n",
    "#[_,avgf] = compute_util_avgprop_closeness(G_SBM, list_nodes,k,y)\n",
    "# using statistical parity\n",
    "[_,avgf] = compute_balance_minprop(G_SBM, list_nodes,k,y)\n",
    "print(\"Average unfairness: \", avgf)  \n",
    "\n",
    "fairness_list.append(avgf)\n",
    "[_,avgcost] = compute_avg_kdistance_inertia(y,k,X_dist)\n",
    "print(\"Average cost: \", avgcost)\n",
    "cost_list.append(avgcost)\n",
    "#if avgf == 0:\n",
    "#    break\n",
    "# generating G_new with double weights\n",
    "G_new = nx.DiGraph()\n",
    "G_new.add_nodes_from(G_SBM)\n",
    "G_new = doubly_weighted_G(G_SBM,G_new,list_nodes,y,k,X_dist)\n",
    "list_nodes_Gnew = list(G_new.nodes())\n",
    "\n",
    "# length = {}\n",
    "# dis = {}\n",
    "# pre = {} \n",
    "result = SPFA2(G_new)"
   ]
  },
  {
   "cell_type": "code",
   "execution_count": 92,
   "id": "e8db65c5",
   "metadata": {},
   "outputs": [
    {
     "data": {
      "text/plain": [
       "'no negative cycle detected'"
      ]
     },
     "execution_count": 92,
     "metadata": {},
     "output_type": "execute_result"
    }
   ],
   "source": [
    "result"
   ]
  },
  {
   "cell_type": "code",
   "execution_count": 107,
   "id": "e46cfce8",
   "metadata": {},
   "outputs": [
    {
     "name": "stdout",
     "output_type": "stream",
     "text": [
      "we're finding Mlow\n",
      "8.0\n",
      "4.0\n",
      "2.0\n",
      "1.0\n",
      "0.5\n",
      "0.25\n",
      "0.125\n",
      "0.0625\n",
      "0.03125\n",
      "0.015625\n",
      "0.0078125\n",
      "0.00390625\n",
      "0.001953125\n",
      "0.0009765625\n",
      "0.00048828125\n",
      "0.000244140625\n",
      "0.0001220703125\n",
      "6.103515625e-05\n",
      "3.0517578125e-05\n",
      "1.52587890625e-05\n",
      "7.62939453125e-06\n",
      "3.814697265625e-06\n",
      "1.9073486328125e-06\n",
      "9.5367431640625e-07\n",
      "4.76837158203125e-07\n",
      "2.384185791015625e-07\n",
      "1.1920928955078125e-07\n",
      "5.960464477539063e-08\n",
      "2.9802322387695312e-08\n",
      "1.4901161193847656e-08\n",
      "7.450580596923828e-09\n",
      "3.725290298461914e-09\n",
      "1.862645149230957e-09\n",
      "9.313225746154785e-10\n",
      "4.656612873077393e-10\n",
      "2.3283064365386963e-10\n",
      "1.1641532182693481e-10\n",
      "5.820766091346741e-11\n",
      "2.9103830456733704e-11\n",
      "1.4551915228366852e-11\n",
      "7.275957614183426e-12\n",
      "best cycle in raw nodes:  ['845', 128, 129, 127, '845']\n",
      "best cycle nodes indices:  [68, 128, 129, 127, 68]\n"
     ]
    }
   ],
   "source": [
    "# length = {}\n",
    "# dis = {}\n",
    "# pre = {} \n",
    "\n",
    "# we get to this point if we managed to fix the negative cycle (might have to run the previuos loop multiple times) or didn't have one to begin with\n",
    "    \n",
    "print(\"we're finding Mlow\")\n",
    "\n",
    "Mfind = 1\n",
    "G_M = create_M_graph(G_SBM,G_new, Mfind)\n",
    "mresult = SPFA(G_M)\n",
    "if(len(mresult) != 3):\n",
    "    Mfind = 0\n",
    "    G_M = create_M_graph(G_SBM,G_new, Mfind)\n",
    "    assert(len(SPFA(G_M)) == 3)\n",
    "else:\n",
    "    while True:\n",
    "        G_M = create_M_graph(G_SBM,G_new, Mfind)\n",
    "        if SPFA(G_M) == 'no negative cycle detected':\n",
    "            break\n",
    "        Mfind *= 2\n",
    "\n",
    "# at this point, we perform a binary search \n",
    "# initialize M and the limits for the binary search\n",
    "M = Mfind/2\n",
    "delta = Mfind/2\n",
    "low = Mfind/2\n",
    "high = Mfind\n",
    "\n",
    "# binary search to find M for which there is a cycle of length 0\n",
    "termination_condition = 10e-12\n",
    "mids = []\n",
    "while np.abs(delta) > termination_condition:\n",
    "    if high > low: \n",
    "        mid = (high + low) / 2\n",
    "        mids.append(mid)\n",
    "    G_M = create_M_graph(G_SBM,G_new, mid)\n",
    "    if SPFA(G_M) == 'no negative cycle detected':\n",
    "        delta = mid - low\n",
    "        high = mid\n",
    "    else:\n",
    "        delta = high - mid\n",
    "        low = mid\n",
    "    print(delta)\n",
    "whereinmidsweare = 0\n",
    "for mm in reversed(mids):\n",
    "    whereinmidsweare += 1\n",
    "    G_M = create_M_graph(G_SBM,G_new, mm)\n",
    "    if len(SPFA(G_M)) == 3:\n",
    "        break\n",
    "    if whereinmidsweare == len(mids):\n",
    "        break\n",
    "M=mm\n",
    "\n",
    "G_M = create_M_graph(G_SBM,G_new, M)\n",
    "[v,pre,stri]=SPFA(G_M)\n",
    "# this is the best cycle that, if followed, will get us the next best clustering with the minimal ratio of cost loss to fairness/utility increase\n",
    "myc = Trace(pre,v)\n",
    "print(\"best cycle in raw nodes: \",myc)\n",
    "ytest = copy.deepcopy(y)\n",
    "\n",
    "myc2 = copy.deepcopy(myc)\n",
    "# we 'follow' the best cycle in order to find that next best clustering, and will compute the cost and fairness/utility as we start the loop again in the next iteration\n",
    "for i in range(len(myc)): \n",
    "    if type(myc[i]) == str:\n",
    "        myc2[i] = list_nodes.index(myc[i])\n",
    "for i in range(len(myc2)):\n",
    "    #print(myc2[i])\n",
    "    if myc2[i] < len(G_SBM.nodes()):\n",
    "        if i == len(myc2) - 1:\n",
    "            break\n",
    "        if myc2[i+1] < len(G_SBM.nodes()):\n",
    "            #a = y[myc2[i]]\n",
    "            ytest[myc2[i]] = y[myc2[i+1]]\n",
    "        if myc2[i + 1] >= len(G_SBM.nodes()) and myc2[i+1] < len(G_SBM.nodes()) + k:\n",
    "            #print(myc2[i+1])\n",
    "            ytest[myc2[i]] = myc2[i+1] % len(G_SBM.nodes())\n",
    "y = copy.deepcopy(ytest)\n",
    "\n",
    "print(\"best cycle nodes indices: \", myc2)\n"
   ]
  },
  {
   "cell_type": "code",
   "execution_count": 108,
   "id": "42b66dfb",
   "metadata": {},
   "outputs": [
    {
     "name": "stdout",
     "output_type": "stream",
     "text": [
      "2\n"
     ]
    }
   ],
   "source": [
    "iteration += 1\n",
    "print(iteration)"
   ]
  },
  {
   "cell_type": "code",
   "execution_count": 503,
   "id": "1a3b716a",
   "metadata": {},
   "outputs": [],
   "source": [
    "# new_centers = np.array(compute_centroids_manually(U, y,k))\n",
    "# X_dist = compute_km_distances(U,new_centers,k)"
   ]
  },
  {
   "cell_type": "code",
   "execution_count": 109,
   "id": "51dd5855",
   "metadata": {},
   "outputs": [
    {
     "name": "stdout",
     "output_type": "stream",
     "text": [
      "Average unfairness:  0.4074451810300867\n",
      "Average cost:  1.193232724439454\n"
     ]
    }
   ],
   "source": [
    "[_,avgf] = compute_balance_minprop(G_SBM, list_nodes,k,y)\n",
    "print(\"Average unfairness: \", avgf)  \n",
    "\n",
    "fairness_list.append(avgf)\n",
    "[_,avgcost] = compute_avg_kdistance_inertia(y,k,X_dist)\n",
    "print(\"Average cost: \", avgcost)\n",
    "cost_list.append(avgcost)\n",
    "# if avgf == 0:\n",
    "#     break\n"
   ]
  },
  {
   "cell_type": "code",
   "execution_count": 248,
   "id": "78f99290",
   "metadata": {},
   "outputs": [
    {
     "name": "stdout",
     "output_type": "stream",
     "text": [
      "ok with the exchange\n",
      "ok with the nodes to cluster edges\n",
      "ok with the cluster to nodes edges\n",
      "ok with everything\n"
     ]
    }
   ],
   "source": [
    "# generating G_new with double weights\n",
    "G_new = nx.DiGraph()\n",
    "G_new.add_nodes_from(G_SBM)\n",
    "G_new = doubly_weighted_G(G_SBM,G_new,list_nodes,y,k,X_dist)\n",
    "list_nodes_Gnew = list(G_new.nodes())\n",
    "\n",
    "# length = {}\n",
    "# dis = {}\n",
    "# pre = {} \n",
    "result = SPFA2(G_new)"
   ]
  },
  {
   "cell_type": "code",
   "execution_count": 239,
   "id": "a86d3cf4",
   "metadata": {},
   "outputs": [
    {
     "data": {
      "text/plain": [
       "{'auv': 0.0, 'tuv': 0.00389753762591305}"
      ]
     },
     "execution_count": 239,
     "metadata": {},
     "output_type": "execute_result"
    }
   ],
   "source": [
    "G_new['211']['92']"
   ]
  },
  {
   "cell_type": "code",
   "execution_count": 240,
   "id": "a42e574c",
   "metadata": {},
   "outputs": [
    {
     "data": {
      "text/plain": [
       "{'auv': -0.013513513513513487, 'tuv': 0.0027302484268680316}"
      ]
     },
     "execution_count": 240,
     "metadata": {},
     "output_type": "execute_result"
    }
   ],
   "source": [
    "G_new['92']['211']"
   ]
  },
  {
   "cell_type": "code",
   "execution_count": 241,
   "id": "bd536748",
   "metadata": {},
   "outputs": [
    {
     "data": {
      "text/plain": [
       "0.00662778605278086"
      ]
     },
     "execution_count": 241,
     "metadata": {},
     "output_type": "execute_result"
    }
   ],
   "source": [
    "G_new[128]['92']['tuv'] + G_new['92']['211']['tuv'] + G_new['211'][128]['tuv']"
   ]
  },
  {
   "cell_type": "code",
   "execution_count": 242,
   "id": "7a45f8c4",
   "metadata": {},
   "outputs": [
    {
     "data": {
      "text/plain": [
       "{'auv': -0.009433962264150941, 'tuv': -0.006492083195588694}"
      ]
     },
     "execution_count": 242,
     "metadata": {},
     "output_type": "execute_result"
    }
   ],
   "source": [
    "G_new[128]['92']"
   ]
  },
  {
   "cell_type": "code",
   "execution_count": 243,
   "id": "57734fe7",
   "metadata": {},
   "outputs": [
    {
     "data": {
      "text/plain": [
       "{'auv': -0.009433962264150941, 'tuv': 0.010389620821501522}"
      ]
     },
     "execution_count": 243,
     "metadata": {},
     "output_type": "execute_result"
    }
   ],
   "source": [
    "G_new['211'][128]"
   ]
  },
  {
   "cell_type": "code",
   "execution_count": null,
   "id": "8d5992ed",
   "metadata": {},
   "outputs": [],
   "source": []
  },
  {
   "cell_type": "code",
   "execution_count": null,
   "id": "263a93a2",
   "metadata": {},
   "outputs": [],
   "source": []
  },
  {
   "cell_type": "code",
   "execution_count": null,
   "id": "c6c9d797",
   "metadata": {},
   "outputs": [],
   "source": []
  },
  {
   "cell_type": "code",
   "execution_count": 249,
   "id": "ce089610",
   "metadata": {},
   "outputs": [
    {
     "data": {
      "text/plain": [
       "('1',\n",
       " {'1': '845',\n",
       "  '55': '845',\n",
       "  '205': '845',\n",
       "  '272': '845',\n",
       "  '494': '845',\n",
       "  '779': '845',\n",
       "  '894': 127,\n",
       "  '3': 127,\n",
       "  '28': '845',\n",
       "  '147': 127,\n",
       "  '407': 127,\n",
       "  '674': '845',\n",
       "  '884': '845',\n",
       "  '27': 127,\n",
       "  '63': 128,\n",
       "  '173': 128,\n",
       "  '202': '845',\n",
       "  '327': '845',\n",
       "  '353': '845',\n",
       "  '429': '845',\n",
       "  '441': '845',\n",
       "  '492': '845',\n",
       "  '545': '845',\n",
       "  '32': 128,\n",
       "  '440': 128,\n",
       "  '624': 128,\n",
       "  '797': 128,\n",
       "  '920': 128,\n",
       "  '151': 128,\n",
       "  '277': 128,\n",
       "  '502': 128,\n",
       "  '866': 128,\n",
       "  '45': '845',\n",
       "  '48': '845',\n",
       "  '79': '845',\n",
       "  '335': '845',\n",
       "  '496': 127,\n",
       "  '601': 127,\n",
       "  '765': '845',\n",
       "  '46': '845',\n",
       "  '117': '845',\n",
       "  '196': '845',\n",
       "  '257': '845',\n",
       "  '268': '845',\n",
       "  '170': '845',\n",
       "  '252': '845',\n",
       "  '883': '845',\n",
       "  '61': 128,\n",
       "  '125': 128,\n",
       "  '70': '845',\n",
       "  '101': '845',\n",
       "  '132': '845',\n",
       "  '240': '845',\n",
       "  '425': '845',\n",
       "  '447': '845',\n",
       "  '72': 127,\n",
       "  '857': 127,\n",
       "  '80': '845',\n",
       "  '120': '845',\n",
       "  '285': '845',\n",
       "  '468': 128,\n",
       "  '85': '845',\n",
       "  '190': '845',\n",
       "  '213': '845',\n",
       "  '214': '845',\n",
       "  '603': '845',\n",
       "  '605': 128,\n",
       "  '92': 128,\n",
       "  '845': 128,\n",
       "  '119': 127,\n",
       "  '122': '845',\n",
       "  '343': 127,\n",
       "  '364': '845',\n",
       "  '265': '845',\n",
       "  '465': '845',\n",
       "  '587': '845',\n",
       "  '488': '845',\n",
       "  '255': 128,\n",
       "  '248': 128,\n",
       "  '325': 128,\n",
       "  '491': 128,\n",
       "  '622': 128,\n",
       "  '960': 128,\n",
       "  '134': '845',\n",
       "  '388': '845',\n",
       "  '184': '845',\n",
       "  '38': 128,\n",
       "  '201': 128,\n",
       "  '452': 128,\n",
       "  '634': 128,\n",
       "  '642': 128,\n",
       "  '691': 128,\n",
       "  '694': 128,\n",
       "  '753': 128,\n",
       "  '869': 128,\n",
       "  '156': 128,\n",
       "  '159': 128,\n",
       "  '165': '845',\n",
       "  '498': '845',\n",
       "  '1332': 128,\n",
       "  '200': '845',\n",
       "  '480': 127,\n",
       "  '245': 128,\n",
       "  '211': '845',\n",
       "  '242': '845',\n",
       "  '219': 128,\n",
       "  '222': 128,\n",
       "  '867': '845',\n",
       "  '232': '845',\n",
       "  '798': 128,\n",
       "  '959': 128,\n",
       "  '564': 128,\n",
       "  '275': 128,\n",
       "  '312': 128,\n",
       "  '612': 128,\n",
       "  '769': 128,\n",
       "  '486': '845',\n",
       "  '531': '845',\n",
       "  '771': '845',\n",
       "  '520': 128,\n",
       "  '576': 128,\n",
       "  '577': 128,\n",
       "  '1401': 128,\n",
       "  '1228': 128,\n",
       "  '1519': 128,\n",
       "  '1594': 128,\n",
       "  '1828': 128,\n",
       "  127: '845',\n",
       "  128: 129,\n",
       "  129: 127},\n",
       " 'negative cycle detected')"
      ]
     },
     "execution_count": 249,
     "metadata": {},
     "output_type": "execute_result"
    }
   ],
   "source": [
    "result"
   ]
  },
  {
   "cell_type": "code",
   "execution_count": 250,
   "id": "1bf4a77f",
   "metadata": {},
   "outputs": [
    {
     "name": "stdout",
     "output_type": "stream",
     "text": [
      "['845', 127, 129, 128, '845']\n"
     ]
    }
   ],
   "source": [
    "[vv,pre,stri] = result\n",
    "negt = Trace(pre,vv)\n",
    "print(negt)"
   ]
  },
  {
   "cell_type": "code",
   "execution_count": 251,
   "id": "a81030a1",
   "metadata": {},
   "outputs": [
    {
     "data": {
      "text/plain": [
       "{'auv': 0.004324324324324391, 'tuv': 0.010321804507956833}"
      ]
     },
     "execution_count": 251,
     "metadata": {},
     "output_type": "execute_result"
    }
   ],
   "source": [
    "G_new['845'][127]"
   ]
  },
  {
   "cell_type": "code",
   "execution_count": 255,
   "id": "a79e02b0",
   "metadata": {},
   "outputs": [
    {
     "data": {
      "text/plain": [
       "{'auv': 0.009796806966618277, 'tuv': -0.01238485468134054}"
      ]
     },
     "execution_count": 255,
     "metadata": {},
     "output_type": "execute_result"
    }
   ],
   "source": [
    "G_new[128]['845']"
   ]
  },
  {
   "cell_type": "code",
   "execution_count": 258,
   "id": "830ecb69",
   "metadata": {},
   "outputs": [
    {
     "data": {
      "text/plain": [
       "-0.01524761224865076"
      ]
     },
     "execution_count": 258,
     "metadata": {},
     "output_type": "execute_result"
    }
   ],
   "source": [
    "-0.01238485468134054 - alpha*0.009796806966618277"
   ]
  },
  {
   "cell_type": "code",
   "execution_count": 259,
   "id": "acee7c00",
   "metadata": {},
   "outputs": [
    {
     "data": {
      "text/plain": [
       "0.009058179305873614"
      ]
     },
     "execution_count": 259,
     "metadata": {},
     "output_type": "execute_result"
    }
   ],
   "source": [
    "0.010321804507956833 - alpha*0.004324324324324391"
   ]
  },
  {
   "cell_type": "code",
   "execution_count": null,
   "id": "a7f48983",
   "metadata": {},
   "outputs": [],
   "source": []
  },
  {
   "cell_type": "code",
   "execution_count": 199,
   "id": "c1e65880",
   "metadata": {},
   "outputs": [
    {
     "data": {
      "text/plain": [
       "68"
      ]
     },
     "execution_count": 199,
     "metadata": {},
     "output_type": "execute_result"
    }
   ],
   "source": [
    "list_nodes.index('845')"
   ]
  },
  {
   "cell_type": "code",
   "execution_count": 200,
   "id": "60c0aa33",
   "metadata": {},
   "outputs": [
    {
     "name": "stdout",
     "output_type": "stream",
     "text": [
      "-0.002063050173383707\n"
     ]
    }
   ],
   "source": [
    "s = 0\n",
    "for i in range(len(myc)-1):\n",
    "    s += G_new[negt[i]][negt[i+1]]['tuv']\n",
    "print(s)"
   ]
  },
  {
   "cell_type": "code",
   "execution_count": 180,
   "id": "82dad938",
   "metadata": {},
   "outputs": [
    {
     "data": {
      "text/plain": [
       "[1.1903907713067448, 1.1911696742660702, 1.193232724439454]"
      ]
     },
     "execution_count": 180,
     "metadata": {},
     "output_type": "execute_result"
    }
   ],
   "source": [
    "cost_list"
   ]
  },
  {
   "cell_type": "code",
   "execution_count": 181,
   "id": "5895fecd",
   "metadata": {},
   "outputs": [
    {
     "data": {
      "text/plain": [
       "[1.1903907713067448,\n",
       " 1.2414232167293902,\n",
       " 1.2834305862714488,\n",
       " 1.3296359111835847]"
      ]
     },
     "execution_count": 181,
     "metadata": {},
     "output_type": "execute_result"
    }
   ],
   "source": [
    "c_vals"
   ]
  },
  {
   "cell_type": "code",
   "execution_count": 118,
   "id": "175b6f55",
   "metadata": {},
   "outputs": [
    {
     "data": {
      "text/plain": [
       "2"
      ]
     },
     "execution_count": 118,
     "metadata": {},
     "output_type": "execute_result"
    }
   ],
   "source": [
    "iteration"
   ]
  },
  {
   "cell_type": "code",
   "execution_count": 244,
   "id": "c73756f9",
   "metadata": {},
   "outputs": [
    {
     "name": "stdout",
     "output_type": "stream",
     "text": [
      "neg cycle, alpha is  0.2922133279817398\n",
      "compute metric with alpha for C0:  1.0741719533318428\n",
      "compute metric with alpha for C1:  1.07417181212053\n"
     ]
    }
   ],
   "source": [
    "alpha = (cost_list[iteration-1] - cost_list[iteration]) / (fairness_list[iteration-1] - fairness_list[iteration])\n",
    "alpha += 2e-5\n",
    "print(\"neg cycle, alpha is \", alpha)\n",
    "print(\"compute metric with alpha for C0: \", cost_list[iteration-1] - alpha*fairness_list[iteration - 1])\n",
    "print(\"compute metric with alpha for C1: \", cost_list[iteration] - alpha*fairness_list[iteration])\n",
    "for e in G_new.edges():\n",
    "    G_new[e[0]][e[1]]['tuv'] += alpha* G_new[e[0]][e[1]]['auv']\n",
    "    G_new[e[0]][e[1]]['tuv'] = round(G_new[e[0]][e[1]]['tuv'],10)"
   ]
  },
  {
   "cell_type": "code",
   "execution_count": 245,
   "id": "c366104b",
   "metadata": {},
   "outputs": [
    {
     "data": {
      "text/plain": [
       "{'auv': 0.0, 'tuv': 0.0038975376}"
      ]
     },
     "execution_count": 245,
     "metadata": {},
     "output_type": "execute_result"
    }
   ],
   "source": [
    "G_new['211']['92']"
   ]
  },
  {
   "cell_type": "code",
   "execution_count": 246,
   "id": "6a4b4941",
   "metadata": {},
   "outputs": [
    {
     "data": {
      "text/plain": [
       "{'auv': -0.013513513513513487, 'tuv': -0.0012185803}"
      ]
     },
     "execution_count": 246,
     "metadata": {},
     "output_type": "execute_result"
    }
   ],
   "source": [
    "G_new['92']['211']"
   ]
  },
  {
   "cell_type": "code",
   "execution_count": 247,
   "id": "6e2eeeb1",
   "metadata": {},
   "outputs": [
    {
     "data": {
      "text/plain": [
       "0.0026789573"
      ]
     },
     "execution_count": 247,
     "metadata": {},
     "output_type": "execute_result"
    }
   ],
   "source": [
    "G_new['211']['92']['tuv'] + G_new['92']['211']['tuv']"
   ]
  },
  {
   "cell_type": "code",
   "execution_count": null,
   "id": "ec51517f",
   "metadata": {},
   "outputs": [],
   "source": [
    "cyc = [128, '92', '211', 128]"
   ]
  },
  {
   "cell_type": "code",
   "execution_count": 206,
   "id": "9d2d5dbd",
   "metadata": {},
   "outputs": [
    {
     "data": {
      "text/plain": [
       "{'auv': -0.009433962264150941, 'tuv': -0.0092488127}"
      ]
     },
     "execution_count": 206,
     "metadata": {},
     "output_type": "execute_result"
    }
   ],
   "source": [
    "G_new[128]['92']"
   ]
  },
  {
   "cell_type": "code",
   "execution_count": 207,
   "id": "68244389",
   "metadata": {},
   "outputs": [
    {
     "data": {
      "text/plain": [
       "{'auv': -0.009433962264150941, 'tuv': 0.0076328913}"
      ]
     },
     "execution_count": 207,
     "metadata": {},
     "output_type": "execute_result"
    }
   ],
   "source": [
    "G_new['211'][128]"
   ]
  },
  {
   "cell_type": "code",
   "execution_count": 208,
   "id": "52ed5010",
   "metadata": {},
   "outputs": [
    {
     "data": {
      "text/plain": [
       "-0.0028345016999999986"
      ]
     },
     "execution_count": 208,
     "metadata": {},
     "output_type": "execute_result"
    }
   ],
   "source": [
    "G_new[128]['92']['tuv'] + G_new['92']['211']['tuv'] + G_new['211'][128]['tuv']"
   ]
  },
  {
   "cell_type": "code",
   "execution_count": 214,
   "id": "d5069b4a",
   "metadata": {},
   "outputs": [
    {
     "data": {
      "text/plain": [
       "-0.00924881270485039"
      ]
     },
     "execution_count": 214,
     "metadata": {},
     "output_type": "execute_result"
    }
   ],
   "source": [
    "-0.006492083195588694 - alpha*0.009433962264150941"
   ]
  },
  {
   "cell_type": "code",
   "execution_count": 215,
   "id": "5ae83852",
   "metadata": {},
   "outputs": [
    {
     "data": {
      "text/plain": [
       "-0.0012185803296419582"
      ]
     },
     "execution_count": 215,
     "metadata": {},
     "output_type": "execute_result"
    }
   ],
   "source": [
    "0.0027302484268680316 - alpha*0.013513513513513487"
   ]
  },
  {
   "attachments": {},
   "cell_type": "markdown",
   "id": "d41bab51",
   "metadata": {},
   "source": [
    "### Basically alpha was too small?? increasing alpha gives me no negative cycle whatsoever... "
   ]
  },
  {
   "cell_type": "code",
   "execution_count": 216,
   "id": "1f3ef1b4",
   "metadata": {},
   "outputs": [],
   "source": [
    "# length = {}\n",
    "# dis = {}\n",
    "# pre = {} \n",
    "newresult = SPFA2(G_new) "
   ]
  },
  {
   "cell_type": "code",
   "execution_count": 217,
   "id": "b9579cd4",
   "metadata": {},
   "outputs": [
    {
     "data": {
      "text/plain": [
       "('32',\n",
       " {'1': '92',\n",
       "  '55': '92',\n",
       "  '205': '92',\n",
       "  '272': '92',\n",
       "  '494': '92',\n",
       "  '779': '92',\n",
       "  '894': '92',\n",
       "  '3': '92',\n",
       "  '28': '92',\n",
       "  '147': '92',\n",
       "  '407': '92',\n",
       "  '674': '92',\n",
       "  '884': '92',\n",
       "  '27': '92',\n",
       "  '63': '211',\n",
       "  '173': '211',\n",
       "  '202': '92',\n",
       "  '327': '92',\n",
       "  '353': '92',\n",
       "  '429': '92',\n",
       "  '441': '92',\n",
       "  '492': '92',\n",
       "  '545': '92',\n",
       "  '32': 128,\n",
       "  '440': '211',\n",
       "  '624': 128,\n",
       "  '797': '211',\n",
       "  '920': '211',\n",
       "  '151': 128,\n",
       "  '277': '211',\n",
       "  '502': '211',\n",
       "  '866': 128,\n",
       "  '45': '92',\n",
       "  '48': '92',\n",
       "  '79': '92',\n",
       "  '335': '92',\n",
       "  '496': '92',\n",
       "  '601': '92',\n",
       "  '765': '92',\n",
       "  '46': '92',\n",
       "  '117': '92',\n",
       "  '196': '92',\n",
       "  '257': '92',\n",
       "  '268': '92',\n",
       "  '170': '92',\n",
       "  '252': '92',\n",
       "  '883': '92',\n",
       "  '61': '211',\n",
       "  '125': '211',\n",
       "  '70': '92',\n",
       "  '101': '92',\n",
       "  '132': '92',\n",
       "  '240': '92',\n",
       "  '425': '92',\n",
       "  '447': '92',\n",
       "  '72': '92',\n",
       "  '857': '92',\n",
       "  '80': '92',\n",
       "  '120': '92',\n",
       "  '285': '92',\n",
       "  '468': '211',\n",
       "  '85': '92',\n",
       "  '190': '92',\n",
       "  '213': '92',\n",
       "  '214': '92',\n",
       "  '603': '92',\n",
       "  '605': 128,\n",
       "  '92': 128,\n",
       "  '845': '211',\n",
       "  '119': '92',\n",
       "  '122': '92',\n",
       "  '343': '92',\n",
       "  '364': '92',\n",
       "  '265': '92',\n",
       "  '465': '92',\n",
       "  '587': '92',\n",
       "  '488': '92',\n",
       "  '255': '211',\n",
       "  '248': 128,\n",
       "  '325': 128,\n",
       "  '491': '211',\n",
       "  '622': 128,\n",
       "  '960': 128,\n",
       "  '134': '92',\n",
       "  '388': '92',\n",
       "  '184': '92',\n",
       "  '38': 128,\n",
       "  '201': 128,\n",
       "  '452': 128,\n",
       "  '634': 128,\n",
       "  '642': 128,\n",
       "  '691': 128,\n",
       "  '694': '211',\n",
       "  '753': '211',\n",
       "  '869': 128,\n",
       "  '156': '211',\n",
       "  '159': 128,\n",
       "  '165': '92',\n",
       "  '498': '92',\n",
       "  '1332': '211',\n",
       "  '200': '92',\n",
       "  '480': '92',\n",
       "  '245': '211',\n",
       "  '211': '92',\n",
       "  '242': '92',\n",
       "  '219': 128,\n",
       "  '222': '211',\n",
       "  '867': '92',\n",
       "  '232': '92',\n",
       "  '798': 128,\n",
       "  '959': 128,\n",
       "  '564': 128,\n",
       "  '275': '211',\n",
       "  '312': '211',\n",
       "  '612': '211',\n",
       "  '769': 128,\n",
       "  '486': '92',\n",
       "  '531': '92',\n",
       "  '771': '92',\n",
       "  '520': '211',\n",
       "  '576': '211',\n",
       "  '577': '211',\n",
       "  '1401': 128,\n",
       "  '1228': 128,\n",
       "  '1519': 128,\n",
       "  '1594': '211',\n",
       "  '1828': 128,\n",
       "  127: '92',\n",
       "  128: '211',\n",
       "  129: 127},\n",
       " 'negative cycle detected')"
      ]
     },
     "execution_count": 217,
     "metadata": {},
     "output_type": "execute_result"
    }
   ],
   "source": [
    "newresult"
   ]
  },
  {
   "cell_type": "code",
   "execution_count": 218,
   "id": "29d1fba2",
   "metadata": {},
   "outputs": [
    {
     "name": "stdout",
     "output_type": "stream",
     "text": [
      "[128, '92', '211', 128]\n",
      "negative t-cycle was not fixed:  -0.0028345016999999986\n",
      "neg cycle was not fixed, these are the weights:  [-0.0092488127, -0.0012185803, 0.0076328913] [-0.009433962264150941, -0.013513513513513487, -0.009433962264150941]\n"
     ]
    }
   ],
   "source": [
    "[vv,pre,stri] = newresult\n",
    "negt = Trace(pre,vv)\n",
    "print(negt)\n",
    "sumcycle = 0\n",
    "t_weights_negt = []\n",
    "a_weights_negt = []\n",
    "for i in range(len(negt) - 1):\n",
    "    sumcycle += G_new[negt[i]][negt[i+1]]['tuv']\n",
    "    t_weights_negt.append(G_new[negt[i]][negt[i+1]]['tuv'])\n",
    "    a_weights_negt.append(G_new[negt[i]][negt[i+1]]['auv'])\n",
    "print(\"negative t-cycle was not fixed: \", sumcycle)\n",
    "print(\"neg cycle was not fixed, these are the weights: \", t_weights_negt, a_weights_negt)\n"
   ]
  },
  {
   "cell_type": "code",
   "execution_count": 186,
   "id": "9cbb78f8",
   "metadata": {},
   "outputs": [
    {
     "data": {
      "text/plain": [
       "103"
      ]
     },
     "execution_count": 186,
     "metadata": {},
     "output_type": "execute_result"
    }
   ],
   "source": [
    "list_nodes.index('211')"
   ]
  },
  {
   "cell_type": "code",
   "execution_count": 187,
   "id": "0a9f710c",
   "metadata": {},
   "outputs": [
    {
     "data": {
      "text/plain": [
       "0"
      ]
     },
     "execution_count": 187,
     "metadata": {},
     "output_type": "execute_result"
    }
   ],
   "source": [
    "y[list_nodes.index('211')]"
   ]
  },
  {
   "cell_type": "code",
   "execution_count": 126,
   "id": "8034776e",
   "metadata": {},
   "outputs": [],
   "source": [
    "y_iter2test = copy.deepcopy(y)\n",
    "#y_iter2test[14] = 0\n",
    "# y_iter2test[63] = 1"
   ]
  },
  {
   "cell_type": "code",
   "execution_count": 188,
   "id": "cf537399",
   "metadata": {},
   "outputs": [],
   "source": [
    "y_iter2test2 = copy.deepcopy(y)\n"
   ]
  },
  {
   "cell_type": "code",
   "execution_count": 219,
   "id": "c9e85c10",
   "metadata": {},
   "outputs": [],
   "source": [
    "y_iter2test2[list_nodes.index('211')] = 1\n",
    "y_iter2test2[list_nodes.index('92')] = 0\n"
   ]
  },
  {
   "cell_type": "code",
   "execution_count": 220,
   "id": "00011140",
   "metadata": {},
   "outputs": [
    {
     "name": "stdout",
     "output_type": "stream",
     "text": [
      "ok with the exchange\n",
      "ok with the nodes to cluster edges\n",
      "ok with the cluster to nodes edges\n",
      "ok with everything\n"
     ]
    }
   ],
   "source": [
    "G_new2 = nx.DiGraph()\n",
    "G_new2.add_nodes_from(G_SBM)\n",
    "G_new2 = doubly_weighted_G(G_SBM,G_new2,list_nodes,y_iter2test2,k,X_dist)\n"
   ]
  },
  {
   "cell_type": "code",
   "execution_count": 232,
   "id": "77af1c75",
   "metadata": {},
   "outputs": [
    {
     "data": {
      "text/plain": [
       "{'auv': -0.009433962264150941, 'tuv': -0.0131463503}"
      ]
     },
     "execution_count": 232,
     "metadata": {},
     "output_type": "execute_result"
    }
   ],
   "source": [
    "G_new2[128]['211']"
   ]
  },
  {
   "cell_type": "code",
   "execution_count": 233,
   "id": "4b039be3",
   "metadata": {},
   "outputs": [
    {
     "data": {
      "text/plain": [
       "{'auv': 0.013513513513513487, 'tuv': 0.0012185803}"
      ]
     },
     "execution_count": 233,
     "metadata": {},
     "output_type": "execute_result"
    }
   ],
   "source": [
    "G_new2['211']['92']"
   ]
  },
  {
   "cell_type": "code",
   "execution_count": 234,
   "id": "8f623e7e",
   "metadata": {},
   "outputs": [
    {
     "data": {
      "text/plain": [
       "{'auv': -0.009433962264150941, 'tuv': 0.0037353537}"
      ]
     },
     "execution_count": 234,
     "metadata": {},
     "output_type": "execute_result"
    }
   ],
   "source": [
    "G_new2['92'][128]"
   ]
  },
  {
   "cell_type": "code",
   "execution_count": 236,
   "id": "ee3680f5",
   "metadata": {},
   "outputs": [
    {
     "data": {
      "text/plain": [
       "-0.008192416300000002"
      ]
     },
     "execution_count": 236,
     "metadata": {},
     "output_type": "execute_result"
    }
   ],
   "source": [
    "G_new2[128]['211']['tuv'] + G_new2['211']['92']['tuv'] + G_new2['92'][128]['tuv']"
   ]
  },
  {
   "cell_type": "code",
   "execution_count": 235,
   "id": "db071f8a",
   "metadata": {},
   "outputs": [
    {
     "data": {
      "text/plain": [
       "{'auv': 0.0, 'tuv': -0.0038975376}"
      ]
     },
     "execution_count": 235,
     "metadata": {},
     "output_type": "execute_result"
    }
   ],
   "source": [
    "G_new2['92']['211']"
   ]
  },
  {
   "cell_type": "code",
   "execution_count": 230,
   "id": "889a67fa",
   "metadata": {},
   "outputs": [
    {
     "data": {
      "text/plain": [
       "-0.0077950752518261"
      ]
     },
     "execution_count": 230,
     "metadata": {},
     "output_type": "execute_result"
    }
   ],
   "source": [
    "G_new2['92']['211']['tuv'] + G_new2['92']['211']['tuv']"
   ]
  },
  {
   "cell_type": "code",
   "execution_count": 231,
   "id": "edf70dbd",
   "metadata": {},
   "outputs": [],
   "source": [
    "\n",
    "for e in G_new2.edges():\n",
    "    \n",
    "    #G_new[e[0]][e[1]]['tuv'] += G_new[e[0]][e[1]]['auv']/(myM+epsilon)\n",
    "    G_new2[e[0]][e[1]]['tuv'] += alpha* G_new2[e[0]][e[1]]['auv']\n",
    "    G_new2[e[0]][e[1]]['tuv'] = round(G_new2[e[0]][e[1]]['tuv'],10)\n",
    "\n",
    "list_nodes_Gnew2 = list(G_new2.nodes())"
   ]
  },
  {
   "cell_type": "code",
   "execution_count": 163,
   "id": "d4a91d35",
   "metadata": {},
   "outputs": [],
   "source": [
    "newresult2 = SPFA2(G_new2) "
   ]
  },
  {
   "cell_type": "code",
   "execution_count": 164,
   "id": "62d3b218",
   "metadata": {},
   "outputs": [
    {
     "data": {
      "text/plain": [
       "(127,\n",
       " {'1': '211',\n",
       "  '55': 127,\n",
       "  '205': '211',\n",
       "  '272': 127,\n",
       "  '494': '211',\n",
       "  '779': 127,\n",
       "  '894': 127,\n",
       "  '3': '211',\n",
       "  '28': '211',\n",
       "  '147': '211',\n",
       "  '407': '211',\n",
       "  '674': 127,\n",
       "  '884': 127,\n",
       "  '27': '211',\n",
       "  '63': 128,\n",
       "  '173': 128,\n",
       "  '202': 127,\n",
       "  '327': '211',\n",
       "  '353': '211',\n",
       "  '429': '211',\n",
       "  '441': 127,\n",
       "  '492': '211',\n",
       "  '545': 127,\n",
       "  '32': '92',\n",
       "  '440': 128,\n",
       "  '624': '92',\n",
       "  '797': 128,\n",
       "  '920': 128,\n",
       "  '151': '92',\n",
       "  '277': 128,\n",
       "  '502': 128,\n",
       "  '866': '92',\n",
       "  '45': 127,\n",
       "  '48': '211',\n",
       "  '79': 127,\n",
       "  '335': '211',\n",
       "  '496': '211',\n",
       "  '601': 127,\n",
       "  '765': 127,\n",
       "  '46': 127,\n",
       "  '117': '211',\n",
       "  '196': '211',\n",
       "  '257': 127,\n",
       "  '268': 127,\n",
       "  '170': 127,\n",
       "  '252': 127,\n",
       "  '883': 127,\n",
       "  '61': 128,\n",
       "  '125': 128,\n",
       "  '70': 127,\n",
       "  '101': 127,\n",
       "  '132': 127,\n",
       "  '240': 127,\n",
       "  '425': 127,\n",
       "  '447': 127,\n",
       "  '72': 127,\n",
       "  '857': 127,\n",
       "  '80': 127,\n",
       "  '120': 127,\n",
       "  '285': 127,\n",
       "  '468': 128,\n",
       "  '85': 127,\n",
       "  '190': '211',\n",
       "  '213': 127,\n",
       "  '214': 127,\n",
       "  '603': '211',\n",
       "  '605': '92',\n",
       "  '92': '211',\n",
       "  '845': 128,\n",
       "  '119': 127,\n",
       "  '122': 127,\n",
       "  '343': 127,\n",
       "  '364': 127,\n",
       "  '265': 127,\n",
       "  '465': 127,\n",
       "  '587': 127,\n",
       "  '488': '211',\n",
       "  '255': 128,\n",
       "  '248': '92',\n",
       "  '325': '92',\n",
       "  '491': 128,\n",
       "  '622': '92',\n",
       "  '960': '92',\n",
       "  '134': 127,\n",
       "  '388': 127,\n",
       "  '184': '211',\n",
       "  '38': '92',\n",
       "  '201': '92',\n",
       "  '452': '92',\n",
       "  '634': '92',\n",
       "  '642': '92',\n",
       "  '691': '92',\n",
       "  '694': 128,\n",
       "  '753': 128,\n",
       "  '869': '92',\n",
       "  '156': 128,\n",
       "  '159': '92',\n",
       "  '165': 127,\n",
       "  '498': 127,\n",
       "  '1332': 128,\n",
       "  '200': '211',\n",
       "  '480': '211',\n",
       "  '245': 128,\n",
       "  '211': 128,\n",
       "  '242': 127,\n",
       "  '219': '92',\n",
       "  '222': 128,\n",
       "  '867': 127,\n",
       "  '232': 127,\n",
       "  '798': '92',\n",
       "  '959': '92',\n",
       "  '564': '92',\n",
       "  '275': 128,\n",
       "  '312': 128,\n",
       "  '612': 128,\n",
       "  '769': '92',\n",
       "  '486': 127,\n",
       "  '531': 127,\n",
       "  '771': '211',\n",
       "  '520': 128,\n",
       "  '576': 128,\n",
       "  '577': 128,\n",
       "  '1401': '92',\n",
       "  '1228': '92',\n",
       "  '1519': '92',\n",
       "  '1594': 128,\n",
       "  '1828': '92',\n",
       "  127: 129,\n",
       "  128: '92',\n",
       "  129: 128},\n",
       " 'negative cycle detected')"
      ]
     },
     "execution_count": 164,
     "metadata": {},
     "output_type": "execute_result"
    }
   ],
   "source": [
    "newresult2"
   ]
  },
  {
   "cell_type": "code",
   "execution_count": 165,
   "id": "40f532e7",
   "metadata": {},
   "outputs": [
    {
     "name": "stdout",
     "output_type": "stream",
     "text": [
      "[128, '211', '92', 128]\n"
     ]
    },
    {
     "ename": "KeyError",
     "evalue": "'92'",
     "output_type": "error",
     "traceback": [
      "\u001b[0;31m---------------------------------------------------------------------------\u001b[0m",
      "\u001b[0;31mKeyError\u001b[0m                                  Traceback (most recent call last)",
      "\u001b[0;32m/var/folders/qc/k6jgnl3532x82rw058f_4nj40002pv/T/ipykernel_92487/3291448548.py\u001b[0m in \u001b[0;36m<module>\u001b[0;34m\u001b[0m\n\u001b[1;32m      6\u001b[0m \u001b[0ma_weights_negt\u001b[0m \u001b[0;34m=\u001b[0m \u001b[0;34m[\u001b[0m\u001b[0;34m]\u001b[0m\u001b[0;34m\u001b[0m\u001b[0;34m\u001b[0m\u001b[0m\n\u001b[1;32m      7\u001b[0m \u001b[0;32mfor\u001b[0m \u001b[0mi\u001b[0m \u001b[0;32min\u001b[0m \u001b[0mrange\u001b[0m\u001b[0;34m(\u001b[0m\u001b[0mlen\u001b[0m\u001b[0;34m(\u001b[0m\u001b[0mnegt2\u001b[0m\u001b[0;34m)\u001b[0m \u001b[0;34m-\u001b[0m \u001b[0;36m1\u001b[0m\u001b[0;34m)\u001b[0m\u001b[0;34m:\u001b[0m\u001b[0;34m\u001b[0m\u001b[0;34m\u001b[0m\u001b[0m\n\u001b[0;32m----> 8\u001b[0;31m     \u001b[0msumcycle\u001b[0m \u001b[0;34m+=\u001b[0m \u001b[0mG_new2\u001b[0m\u001b[0;34m[\u001b[0m\u001b[0mnegt\u001b[0m\u001b[0;34m[\u001b[0m\u001b[0mi\u001b[0m\u001b[0;34m]\u001b[0m\u001b[0;34m]\u001b[0m\u001b[0;34m[\u001b[0m\u001b[0mnegt2\u001b[0m\u001b[0;34m[\u001b[0m\u001b[0mi\u001b[0m\u001b[0;34m+\u001b[0m\u001b[0;36m1\u001b[0m\u001b[0;34m]\u001b[0m\u001b[0;34m]\u001b[0m\u001b[0;34m[\u001b[0m\u001b[0;34m'tuv'\u001b[0m\u001b[0;34m]\u001b[0m\u001b[0;34m\u001b[0m\u001b[0;34m\u001b[0m\u001b[0m\n\u001b[0m\u001b[1;32m      9\u001b[0m     \u001b[0mt_weights_negt\u001b[0m\u001b[0;34m.\u001b[0m\u001b[0mappend\u001b[0m\u001b[0;34m(\u001b[0m\u001b[0mG_new2\u001b[0m\u001b[0;34m[\u001b[0m\u001b[0mnegt2\u001b[0m\u001b[0;34m[\u001b[0m\u001b[0mi\u001b[0m\u001b[0;34m]\u001b[0m\u001b[0;34m]\u001b[0m\u001b[0;34m[\u001b[0m\u001b[0mnegt2\u001b[0m\u001b[0;34m[\u001b[0m\u001b[0mi\u001b[0m\u001b[0;34m+\u001b[0m\u001b[0;36m1\u001b[0m\u001b[0;34m]\u001b[0m\u001b[0;34m]\u001b[0m\u001b[0;34m[\u001b[0m\u001b[0;34m'tuv'\u001b[0m\u001b[0;34m]\u001b[0m\u001b[0;34m)\u001b[0m\u001b[0;34m\u001b[0m\u001b[0;34m\u001b[0m\u001b[0m\n\u001b[1;32m     10\u001b[0m     \u001b[0ma_weights_negt\u001b[0m\u001b[0;34m.\u001b[0m\u001b[0mappend\u001b[0m\u001b[0;34m(\u001b[0m\u001b[0mG_new2\u001b[0m\u001b[0;34m[\u001b[0m\u001b[0mnegt2\u001b[0m\u001b[0;34m[\u001b[0m\u001b[0mi\u001b[0m\u001b[0;34m]\u001b[0m\u001b[0;34m]\u001b[0m\u001b[0;34m[\u001b[0m\u001b[0mnegt2\u001b[0m\u001b[0;34m[\u001b[0m\u001b[0mi\u001b[0m\u001b[0;34m+\u001b[0m\u001b[0;36m1\u001b[0m\u001b[0;34m]\u001b[0m\u001b[0;34m]\u001b[0m\u001b[0;34m[\u001b[0m\u001b[0;34m'auv'\u001b[0m\u001b[0;34m]\u001b[0m\u001b[0;34m)\u001b[0m\u001b[0;34m\u001b[0m\u001b[0;34m\u001b[0m\u001b[0m\n",
      "\u001b[0;32m/Library/Frameworks/Python.framework/Versions/3.7/lib/python3.7/site-packages/networkx/classes/coreviews.py\u001b[0m in \u001b[0;36m__getitem__\u001b[0;34m(self, key)\u001b[0m\n\u001b[1;32m     52\u001b[0m \u001b[0;34m\u001b[0m\u001b[0m\n\u001b[1;32m     53\u001b[0m     \u001b[0;32mdef\u001b[0m \u001b[0m__getitem__\u001b[0m\u001b[0;34m(\u001b[0m\u001b[0mself\u001b[0m\u001b[0;34m,\u001b[0m \u001b[0mkey\u001b[0m\u001b[0;34m)\u001b[0m\u001b[0;34m:\u001b[0m\u001b[0;34m\u001b[0m\u001b[0;34m\u001b[0m\u001b[0m\n\u001b[0;32m---> 54\u001b[0;31m         \u001b[0;32mreturn\u001b[0m \u001b[0mself\u001b[0m\u001b[0;34m.\u001b[0m\u001b[0m_atlas\u001b[0m\u001b[0;34m[\u001b[0m\u001b[0mkey\u001b[0m\u001b[0;34m]\u001b[0m\u001b[0;34m\u001b[0m\u001b[0;34m\u001b[0m\u001b[0m\n\u001b[0m\u001b[1;32m     55\u001b[0m \u001b[0;34m\u001b[0m\u001b[0m\n\u001b[1;32m     56\u001b[0m     \u001b[0;32mdef\u001b[0m \u001b[0mcopy\u001b[0m\u001b[0;34m(\u001b[0m\u001b[0mself\u001b[0m\u001b[0;34m)\u001b[0m\u001b[0;34m:\u001b[0m\u001b[0;34m\u001b[0m\u001b[0;34m\u001b[0m\u001b[0m\n",
      "\u001b[0;31mKeyError\u001b[0m: '92'"
     ]
    }
   ],
   "source": [
    "[vv,pre,stri] = newresult2\n",
    "negt2 = Trace(pre,vv)\n",
    "print(negt2)\n",
    "sumcycle = 0\n",
    "t_weights_negt = []\n",
    "a_weights_negt = []\n",
    "for i in range(len(negt2) - 1):\n",
    "    sumcycle += G_new2[negt[i]][negt2[i+1]]['tuv']\n",
    "    t_weights_negt.append(G_new2[negt2[i]][negt2[i+1]]['tuv'])\n",
    "    a_weights_negt.append(G_new2[negt2[i]][negt2[i+1]]['auv'])\n",
    "print(\"negative t-cycle was not fixed: \", sumcycle)\n",
    "print(\"neg cycle was not fixed, these are the weights: \", t_weights_negt, a_weights_negt)\n"
   ]
  },
  {
   "cell_type": "code",
   "execution_count": 166,
   "id": "b962f6e8",
   "metadata": {},
   "outputs": [
    {
     "ename": "KeyError",
     "evalue": "'92'",
     "output_type": "error",
     "traceback": [
      "\u001b[0;31m---------------------------------------------------------------------------\u001b[0m",
      "\u001b[0;31mKeyError\u001b[0m                                  Traceback (most recent call last)",
      "\u001b[0;32m/var/folders/qc/k6jgnl3532x82rw058f_4nj40002pv/T/ipykernel_92487/2530910754.py\u001b[0m in \u001b[0;36m<module>\u001b[0;34m\u001b[0m\n\u001b[1;32m      1\u001b[0m \u001b[0;31m# G_new2[negt[0]][negt2[1]]['tuv'] +\u001b[0m\u001b[0;34m\u001b[0m\u001b[0;34m\u001b[0m\u001b[0;34m\u001b[0m\u001b[0m\n\u001b[0;32m----> 2\u001b[0;31m \u001b[0mG_new2\u001b[0m\u001b[0;34m[\u001b[0m\u001b[0mnegt\u001b[0m\u001b[0;34m[\u001b[0m\u001b[0;36m1\u001b[0m\u001b[0;34m]\u001b[0m\u001b[0;34m]\u001b[0m\u001b[0;34m[\u001b[0m\u001b[0mnegt2\u001b[0m\u001b[0;34m[\u001b[0m\u001b[0;36m2\u001b[0m\u001b[0;34m]\u001b[0m\u001b[0;34m]\u001b[0m\u001b[0;34m[\u001b[0m\u001b[0;34m'tuv'\u001b[0m\u001b[0;34m]\u001b[0m\u001b[0;34m\u001b[0m\u001b[0;34m\u001b[0m\u001b[0m\n\u001b[0m",
      "\u001b[0;32m/Library/Frameworks/Python.framework/Versions/3.7/lib/python3.7/site-packages/networkx/classes/coreviews.py\u001b[0m in \u001b[0;36m__getitem__\u001b[0;34m(self, key)\u001b[0m\n\u001b[1;32m     52\u001b[0m \u001b[0;34m\u001b[0m\u001b[0m\n\u001b[1;32m     53\u001b[0m     \u001b[0;32mdef\u001b[0m \u001b[0m__getitem__\u001b[0m\u001b[0;34m(\u001b[0m\u001b[0mself\u001b[0m\u001b[0;34m,\u001b[0m \u001b[0mkey\u001b[0m\u001b[0;34m)\u001b[0m\u001b[0;34m:\u001b[0m\u001b[0;34m\u001b[0m\u001b[0;34m\u001b[0m\u001b[0m\n\u001b[0;32m---> 54\u001b[0;31m         \u001b[0;32mreturn\u001b[0m \u001b[0mself\u001b[0m\u001b[0;34m.\u001b[0m\u001b[0m_atlas\u001b[0m\u001b[0;34m[\u001b[0m\u001b[0mkey\u001b[0m\u001b[0;34m]\u001b[0m\u001b[0;34m\u001b[0m\u001b[0;34m\u001b[0m\u001b[0m\n\u001b[0m\u001b[1;32m     55\u001b[0m \u001b[0;34m\u001b[0m\u001b[0m\n\u001b[1;32m     56\u001b[0m     \u001b[0;32mdef\u001b[0m \u001b[0mcopy\u001b[0m\u001b[0;34m(\u001b[0m\u001b[0mself\u001b[0m\u001b[0;34m)\u001b[0m\u001b[0;34m:\u001b[0m\u001b[0;34m\u001b[0m\u001b[0;34m\u001b[0m\u001b[0m\n",
      "\u001b[0;31mKeyError\u001b[0m: '92'"
     ]
    }
   ],
   "source": [
    "# G_new2[negt[0]][negt2[1]]['tuv'] + \n",
    "G_new2[negt[1]][negt2[2]]['tuv']"
   ]
  },
  {
   "cell_type": "code",
   "execution_count": 145,
   "id": "48ad20dc",
   "metadata": {},
   "outputs": [
    {
     "name": "stdout",
     "output_type": "stream",
     "text": [
      "[128, '92', '211', 128]\n"
     ]
    }
   ],
   "source": [
    "[vv,pre,stri] = newresult2\n",
    "negt2 = Trace(pre,vv)\n",
    "print(negt2)"
   ]
  },
  {
   "cell_type": "code",
   "execution_count": 125,
   "id": "0ba30add",
   "metadata": {},
   "outputs": [
    {
     "name": "stdout",
     "output_type": "stream",
     "text": [
      "Cost when correcting a negative cycle:  1.199860510492235\n",
      "Fairness when correcting a negative cycle:  0.41420193778684344\n",
      "compute metric for following the neg cycle:  1.3208958371894142\n"
     ]
    }
   ],
   "source": [
    "# [vv,pre,stri] = newresult\n",
    "# negt = Trace(pre,vv)\n",
    "# print(negt)\n",
    "# sumcycle = 0\n",
    "# t_weights_negt = []\n",
    "# a_weights_negt = []\n",
    "# for i in range(len(negt) - 1):\n",
    "#     sumcycle += G_new[negt[i]][negt[i+1]]['tuv']\n",
    "#     t_weights_negt.append(G_new[negt[i]][negt[i+1]]['tuv'])\n",
    "#     a_weights_negt.append(G_new[negt[i]][negt[i+1]]['auv'])\n",
    "# print(\"negative t-cycle was not fixed: \", sumcycle)\n",
    "\n",
    "y_neg = copy.deepcopy(y)\n",
    "negt2 = copy.deepcopy(negt)\n",
    "for i in range(len(negt)): \n",
    "    if type(negt[i]) == str:\n",
    "        negt2[i] = list_nodes.index(negt[i])\n",
    "for i in range(len(negt2)):\n",
    "    if negt2[i] < len(G_SBM.nodes()):\n",
    "        if i == len(negt2) - 1:\n",
    "            break\n",
    "        if negt2[i+1] < len(G_SBM.nodes()):\n",
    "            y_neg[negt2[i]] = y[negt2[i+1]]\n",
    "        if negt2[i + 1] >= len(G_SBM.nodes()) and negt2[i+1] < len(G_SBM.nodes()) + k:\n",
    "            y_neg[negt2[i]] = negt2[i+1] % len(G_SBM.nodes())\n",
    "\n",
    "# this is when we also update the centroids \n",
    "# new_centers = np.array(compute_centroids_manually(U, y_neg,k))\n",
    "# X_dist = compute_km_distances(U,new_centers,k)\n",
    "\n",
    "_,avgdistneg = compute_avg_kdistance_inertia(y_neg, k, X_dist)\n",
    "# using closeness utility\n",
    "#_,avgfairnessneg = compute_util_avgprop_closeness(G_SBM, list_nodes,k,y_neg)\n",
    "# using statistical parity\n",
    "_,avgfairnessneg = compute_balance_minprop(G_SBM, list_nodes,k,y_neg)\n",
    "print(\"Cost when correcting a negative cycle: \", avgdistneg)\n",
    "print(\"Fairness when correcting a negative cycle: \", avgfairnessneg)\n",
    "print(\"compute metric for following the neg cycle: \", avgdistneg + alpha*avgfairnessneg)\n",
    "\n",
    "#y = copy.deepcopy(y_neg)"
   ]
  },
  {
   "cell_type": "code",
   "execution_count": 327,
   "id": "2daf8aa8",
   "metadata": {},
   "outputs": [],
   "source": [
    "y = copy.deepcopy(y_neg)"
   ]
  },
  {
   "cell_type": "code",
   "execution_count": 1533,
   "id": "060872f9",
   "metadata": {},
   "outputs": [],
   "source": [
    "cost_list.append(avgdistneg)"
   ]
  },
  {
   "cell_type": "code",
   "execution_count": 1534,
   "id": "4522d57f",
   "metadata": {},
   "outputs": [],
   "source": [
    "fairness_list.append(avgfairnessneg)"
   ]
  },
  {
   "cell_type": "code",
   "execution_count": null,
   "id": "f46be13d",
   "metadata": {},
   "outputs": [],
   "source": [
    "iteration += 1"
   ]
  },
  {
   "cell_type": "code",
   "execution_count": 328,
   "id": "dd72a422",
   "metadata": {},
   "outputs": [],
   "source": [
    "G_new = nx.DiGraph()\n",
    "G_new.add_nodes_from(G_SBM)\n",
    "G_new = doubly_weighted_G(G_SBM,G_new,list_nodes,y,k,X_dist)\n",
    "\n",
    "for e in G_new.edges():\n",
    "    \n",
    "    #G_new[e[0]][e[1]]['tuv'] += G_new[e[0]][e[1]]['auv']/(myM+epsilon)\n",
    "    G_new[e[0]][e[1]]['tuv'] += alpha* G_new[e[0]][e[1]]['auv']\n",
    "    G_new[e[0]][e[1]]['tuv'] = round(G_new[e[0]][e[1]]['tuv'],10)\n",
    "\n",
    "list_nodes_Gnew = list(G_new.nodes())"
   ]
  },
  {
   "cell_type": "code",
   "execution_count": null,
   "id": "468df810",
   "metadata": {},
   "outputs": [],
   "source": []
  },
  {
   "attachments": {},
   "cell_type": "markdown",
   "id": "0446f9b9",
   "metadata": {},
   "source": [
    "### Rashida's greedy alg:"
   ]
  },
  {
   "cell_type": "code",
   "execution_count": 27,
   "id": "928fc5af",
   "metadata": {},
   "outputs": [],
   "source": [
    "def find_best_change(G, cluster_assignment, km_distances, no_clusters):\n",
    "    list_nodes = list(G.nodes())\n",
    "    [maj_no, min_no] = graph_communities(G_SBM, list_nodes)\n",
    "    maj_prop = maj_no / (maj_no + min_no)\n",
    "    w = (1 - maj_prop) / maj_prop\n",
    "    \n",
    "    changes_list = []\n",
    "    for u in range(len(list_nodes)):\n",
    "        for cluster in range(k):\n",
    "            if cluster_assignment[u] != cluster:\n",
    "                # calculate the change in cost - 2 parts, u joining new cluster, u leaving prev cluster\n",
    "                dist_join = km_distances[u, cluster] # added cost from joining\n",
    "                dist_leave = km_distances[u, cluster_assignment[u]] # subtracted cost from leaving\n",
    "                cost = dist_join - dist_leave\n",
    "                # print(cost)\n",
    "\n",
    "                # calculate the change in fairness - 2 parts, u joining new cluster, u leaving prev cluster\n",
    "                # TODO: fix this for the balance metric! compute_balance_minprop \n",
    "                [_, _, cluster_majority, cluster_minority] = cluster_proportions(G_SBM, list_nodes, k, cluster_assignment)\n",
    "                joined_cluster_maj = cluster_majority[cluster]\n",
    "                joined_cluster_min = cluster_minority[cluster]\n",
    "\n",
    "                left_cluster_maj = cluster_majority[cluster_assignment[u]]\n",
    "                left_cluster_min = cluster_minority[cluster_assignment[u]]\n",
    "\n",
    "                fair_join = min(joined_cluster_min/joined_cluster_maj, joined_cluster_maj/joined_cluster_min)  \n",
    "                fair_leave = min(left_cluster_min/left_cluster_maj, left_cluster_maj/left_cluster_min) \n",
    "                # fair_join = abs(joined_cluster_min - (w * joined_cluster_maj)) # unfairness before\n",
    "                # fair_leave = abs(left_cluster_min - (w * left_cluster_maj)) # unfairness before\n",
    "\n",
    "                if G_SBM.nodes[list_nodes[u]]['color'] == 'b':\n",
    "                    joined_cluster_maj += 1\n",
    "                    left_cluster_maj -= 1\n",
    "                else:\n",
    "                    joined_cluster_min += 1\n",
    "                    left_cluster_min -= 1\n",
    "                    \n",
    "                # old unfairness minus new unfairness (fairness gain)\n",
    "                fair_join -= min(joined_cluster_min/joined_cluster_maj, joined_cluster_maj/joined_cluster_min)\n",
    "                fair_leave -= min(left_cluster_min/left_cluster_maj, left_cluster_maj/left_cluster_min) \n",
    "                \n",
    "                # fair_join -= abs(joined_cluster_min - (w * joined_cluster_maj)) \n",
    "                # fair_leave -= abs(left_cluster_min - (w * left_cluster_maj))\n",
    "\n",
    "                # NOTE: for balance, should this be the average or the min?? \n",
    "                fairness = (fair_join + fair_leave) / no_clusters\n",
    "\n",
    "\n",
    "                changes_list.append(((u, cluster), fairness, cost, fairness / cost))\n",
    "                \n",
    "    # search over changes with positive fairness gain and cost increase\n",
    "    # good_changes_list = [c for c in changes_list if c[1] > 0 and c[2] > 0]\n",
    "    # NOTE: for balance, we want fairness to increase, so we want c[1] < 0\n",
    "    good_changes_list = [c for c in changes_list if c[1] < 0 and c[2] > 0]\n",
    "    good_changes_list.sort(key=lambda a: a[3], reverse = True)\n",
    "    if len(good_changes_list) > 0:\n",
    "        best_change = good_changes_list[0]\n",
    "        return best_change\n",
    "    else:\n",
    "        print(\"No more good changes\")\n",
    "        return 0"
   ]
  },
  {
   "cell_type": "code",
   "execution_count": 34,
   "id": "cd557fa1",
   "metadata": {},
   "outputs": [
    {
     "name": "stdout",
     "output_type": "stream",
     "text": [
      "[1, 2]\n",
      "[0 0 0 0 0 0 0 0 0 0 0 0 0 0 1 1 0 0 0 0 0 0 0 1 1 1 1 1 1 1 1 1 0 0 0 0 0\n",
      " 0 0 0 0 0 0 0 0 0 0 1 1 0 0 0 0 0 0 0 0 0 0 0 1 0 0 0 0 0 1 1 0 0 0 0 0 0\n",
      " 0 0 0 1 1 1 1 1 1 0 0 0 1 1 1 1 1 1 1 1 1 1 1 0 0 1 0 0 1 0 0 1 0 0 0 1 1\n",
      " 1 1 1 1 1 0 0 0 1 1 1 1 1 1 1 1]\n"
     ]
    }
   ],
   "source": [
    "# these are the iterations that the trade-off algorithm runs; note that beyond iteration 0, the starting clustering is no longer optimal in the optimization objective (for k-means, that means inertia)\n",
    "no_of_iterations = 20\n",
    "\n",
    "\n",
    "# k is the number of clusters for spectral clustering\n",
    "#k = len(sizes) # for simulated model\n",
    "k = 2 # for the real data; needs to be varied\n",
    "\n",
    "\n",
    "# computing the spectrum of the graph\n",
    "A = nx.adjacency_matrix(G_SBM)\n",
    "# computing the normalized Laplacian of the graph\n",
    "L = nx.normalized_laplacian_matrix(G_SBM)\n",
    "L.todense()\n",
    "D = np.diag(np.sum(np.array(A.todense()), axis=1))\n",
    "\n",
    "# computing the eigenvalues and eigenvectors of the normalized Laplacian\n",
    "e, v = np.linalg.eig(L.todense())\n",
    "\n",
    "# only take the first k sorted eigenvalues (can start from 0 or from 1, since first is 0 given that we have one connected component often times)\n",
    "i = [list(e).index(j) for j in sorted(list(e))[1:k+1]]\n",
    "print(i)\n",
    "\n",
    "\n",
    "U = np.array(v[:, i])\n",
    "# performing manual spectral clustering: using the first k values of the eigenspace to do k-means \n",
    "#km = KMeans(init='k-means++', n_clusters=k, max_iter=200, n_init=200, verbose=0, random_state=3425)\n",
    "km = KMeans(init='k-means++', n_clusters=k, max_iter=200, n_init=200, verbose=0)\n",
    "\n",
    "km.fit(U)\n",
    "y = km.labels_\n",
    "# distances from the k-centers\n",
    "X_dist = km.transform(U)**2\n",
    "\n",
    "# keeping a copy of the clustering assignment\n",
    "y_copy = copy.deepcopy(y)\n",
    "print(y_copy)"
   ]
  },
  {
   "cell_type": "code",
   "execution_count": 35,
   "id": "c81b3721",
   "metadata": {},
   "outputs": [
    {
     "name": "stdout",
     "output_type": "stream",
     "text": [
      "Iteration: 0\n",
      "(3, 1)\n",
      "Iteration: 1\n",
      "(6, 1)\n",
      "Iteration: 2\n",
      "(25, 0)\n",
      "Iteration: 3\n",
      "No more good changes\n"
     ]
    }
   ],
   "source": [
    "cluster_assignment = copy.deepcopy(y)\n",
    "i = 0\n",
    "f_vals = []\n",
    "c_vals = []\n",
    "while True:\n",
    "    print(f\"Iteration: {i}\")\n",
    "    #if i == 4:\n",
    "    #    break\n",
    "    i += 1\n",
    "    # print metrics for current iteration\n",
    "    [clf, avgf] = compute_balance_minprop(G_SBM, list_nodes, k, cluster_assignment)\n",
    "    f_vals.append(avgf)\n",
    "    # print(\"Average unfairness: \", avgf)\n",
    "    [clcost,avgcost] = compute_avg_kdistance_inertia(cluster_assignment,k,X_dist)\n",
    "    c_vals.append(avgcost)\n",
    "    # print(\"Average cost: \", avgcost)\n",
    "    \n",
    "    # find best change\n",
    "    best_change = find_best_change(G_SBM, cluster_assignment, X_dist, k)\n",
    "    if best_change == 0:\n",
    "        break\n",
    "    best_change = best_change[0]\n",
    "    print(best_change)\n",
    "    \n",
    "    # update clustering\n",
    "    cluster_assignment[best_change[0]] = best_change[1]\n",
    "    bcc = copy.deepcopy(cluster_assignment)\n",
    "    #X_dist = compute_km_distances(U,np.array(compute_centroids_manually(U, bcc,k)),k)\n",
    "    new_centers = np.array(compute_centroids_manually(U, cluster_assignment,k))\n",
    "    X_dist = compute_km_distances(U,new_centers,k)"
   ]
  },
  {
   "cell_type": "code",
   "execution_count": 36,
   "id": "bb659a09",
   "metadata": {},
   "outputs": [
    {
     "data": {
      "text/plain": [
       "[1.1903907713067448,\n",
       " 1.2414232167293902,\n",
       " 1.2834305862714488,\n",
       " 1.3296359111835847]"
      ]
     },
     "execution_count": 36,
     "metadata": {},
     "output_type": "execute_result"
    }
   ],
   "source": [
    "c_vals"
   ]
  },
  {
   "cell_type": "code",
   "execution_count": 37,
   "id": "9e2dfa16",
   "metadata": {},
   "outputs": [
    {
     "data": {
      "text/plain": [
       "[0.3931888544891641,\n",
       " 0.40038461538461534,\n",
       " 0.4074451810300867,\n",
       " 0.4166666666666667]"
      ]
     },
     "execution_count": 37,
     "metadata": {},
     "output_type": "execute_result"
    }
   ],
   "source": [
    "f_vals"
   ]
  },
  {
   "cell_type": "code",
   "execution_count": 64,
   "id": "3a708075",
   "metadata": {},
   "outputs": [
    {
     "data": {
      "text/plain": [
       "14"
      ]
     },
     "execution_count": 64,
     "metadata": {},
     "output_type": "execute_result"
    }
   ],
   "source": [
    "np.where(y_all[0]!=y_all[1])[0][0]"
   ]
  },
  {
   "cell_type": "code",
   "execution_count": null,
   "id": "c8c3f52a",
   "metadata": {},
   "outputs": [],
   "source": []
  },
  {
   "cell_type": "code",
   "execution_count": 67,
   "id": "c82868f7",
   "metadata": {},
   "outputs": [
    {
     "name": "stdout",
     "output_type": "stream",
     "text": [
      "iteration  0\n",
      "63 changes from cluster  0  to cluster  4\n",
      "iteration  1\n",
      "531 changes from cluster  0  to cluster  4\n",
      "iteration  2\n",
      "343 changes from cluster  0  to cluster  4\n",
      "iteration  3\n",
      "486 changes from cluster  0  to cluster  4\n",
      "iteration  4\n",
      "159 changes from cluster  4  to cluster  0\n",
      "iteration  5\n",
      "232 changes from cluster  2  to cluster  1\n",
      "iteration  6\n"
     ]
    },
    {
     "ename": "KeyError",
     "evalue": "7",
     "output_type": "error",
     "traceback": [
      "\u001b[0;31m---------------------------------------------------------------------------\u001b[0m",
      "\u001b[0;31mKeyError\u001b[0m                                  Traceback (most recent call last)",
      "\u001b[0;32m/var/folders/qc/k6jgnl3532x82rw058f_4nj40002pv/T/ipykernel_76400/2237259652.py\u001b[0m in \u001b[0;36m<module>\u001b[0;34m\u001b[0m\n\u001b[1;32m      1\u001b[0m \u001b[0;32mfor\u001b[0m \u001b[0mi\u001b[0m \u001b[0;32min\u001b[0m \u001b[0mrange\u001b[0m\u001b[0;34m(\u001b[0m\u001b[0mlen\u001b[0m\u001b[0;34m(\u001b[0m\u001b[0my_all\u001b[0m\u001b[0;34m)\u001b[0m\u001b[0;34m-\u001b[0m\u001b[0;36m1\u001b[0m\u001b[0;34m)\u001b[0m\u001b[0;34m:\u001b[0m\u001b[0;34m\u001b[0m\u001b[0;34m\u001b[0m\u001b[0m\n\u001b[1;32m      2\u001b[0m     \u001b[0mprint\u001b[0m\u001b[0;34m(\u001b[0m\u001b[0;34m\"iteration \"\u001b[0m\u001b[0;34m,\u001b[0m \u001b[0mi\u001b[0m\u001b[0;34m)\u001b[0m\u001b[0;34m\u001b[0m\u001b[0;34m\u001b[0m\u001b[0m\n\u001b[0;32m----> 3\u001b[0;31m     \u001b[0;32mfor\u001b[0m \u001b[0mj\u001b[0m \u001b[0;32min\u001b[0m \u001b[0mnp\u001b[0m\u001b[0;34m.\u001b[0m\u001b[0mwhere\u001b[0m\u001b[0;34m(\u001b[0m\u001b[0my_all\u001b[0m\u001b[0;34m[\u001b[0m\u001b[0mi\u001b[0m\u001b[0;34m]\u001b[0m\u001b[0;34m!=\u001b[0m\u001b[0my_all\u001b[0m\u001b[0;34m[\u001b[0m\u001b[0mi\u001b[0m\u001b[0;34m+\u001b[0m\u001b[0;36m1\u001b[0m\u001b[0;34m]\u001b[0m\u001b[0;34m)\u001b[0m\u001b[0;34m[\u001b[0m\u001b[0;36m0\u001b[0m\u001b[0;34m]\u001b[0m\u001b[0;34m:\u001b[0m\u001b[0;34m\u001b[0m\u001b[0;34m\u001b[0m\u001b[0m\n\u001b[0m\u001b[1;32m      4\u001b[0m         \u001b[0mprint\u001b[0m\u001b[0;34m(\u001b[0m\u001b[0mlist_nodes\u001b[0m\u001b[0;34m[\u001b[0m\u001b[0mj\u001b[0m\u001b[0;34m]\u001b[0m\u001b[0;34m,\u001b[0m \u001b[0;34m\"changes from cluster \"\u001b[0m\u001b[0;34m,\u001b[0m \u001b[0my_all\u001b[0m\u001b[0;34m[\u001b[0m\u001b[0mi\u001b[0m\u001b[0;34m]\u001b[0m\u001b[0;34m[\u001b[0m\u001b[0mj\u001b[0m\u001b[0;34m]\u001b[0m\u001b[0;34m,\u001b[0m \u001b[0;34m\" to cluster \"\u001b[0m\u001b[0;34m,\u001b[0m  \u001b[0my_all\u001b[0m\u001b[0;34m[\u001b[0m\u001b[0mi\u001b[0m\u001b[0;34m+\u001b[0m\u001b[0;36m1\u001b[0m\u001b[0;34m]\u001b[0m\u001b[0;34m[\u001b[0m\u001b[0mj\u001b[0m\u001b[0;34m]\u001b[0m\u001b[0;34m)\u001b[0m\u001b[0;34m\u001b[0m\u001b[0;34m\u001b[0m\u001b[0m\n",
      "\u001b[0;31mKeyError\u001b[0m: 7"
     ]
    }
   ],
   "source": [
    "for i in range(len(y_all)-1):\n",
    "    print(\"iteration \", i)\n",
    "    for j in np.where(y_all[i]!=y_all[i+1])[0]:\n",
    "        print(list_nodes[j], \"changes from cluster \", y_all[i][j], \" to cluster \",  y_all[i+1][j])\n"
   ]
  },
  {
   "cell_type": "code",
   "execution_count": 79,
   "id": "02f77002",
   "metadata": {},
   "outputs": [
    {
     "data": {
      "text/plain": [
       "array([1, 1, 1, 1, 1, 1, 1, 1, 1, 1, 1, 1, 1, 1, 1, 0, 1, 1, 1, 1, 1, 2,\n",
       "       1, 3, 3, 3, 3, 3, 0, 0, 0, 0, 2, 2, 2, 2, 2, 2, 2, 1, 1, 1, 1, 1,\n",
       "       1, 1, 1, 3, 3, 1, 1, 1, 1, 1, 1, 1, 1, 2, 2, 2, 2, 2, 1, 2, 2, 2,\n",
       "       3, 2, 2, 1, 1, 1, 1, 1, 1, 1, 2, 4, 0, 3, 3, 3, 3, 2, 2, 1, 0, 0,\n",
       "       0, 0, 0, 0, 0, 0, 0, 0, 0, 1, 1, 0, 2, 2, 3, 2, 2, 3, 0, 1, 2, 3,\n",
       "       3, 0, 4, 4, 4, 3, 1, 1, 2, 3, 3, 0, 0, 0, 0, 0, 0], dtype=int32)"
      ]
     },
     "execution_count": 79,
     "metadata": {},
     "output_type": "execute_result"
    }
   ],
   "source": [
    "y_copy"
   ]
  },
  {
   "cell_type": "code",
   "execution_count": 82,
   "id": "2f3d20a5",
   "metadata": {},
   "outputs": [],
   "source": [
    "y_copy[107] = 0\n",
    "y_copy[14] = 0\n",
    "y_copy[117] = 0\n",
    "y_copy[71] = 0\n",
    "y_copy[116] = 0\n",
    "y_copy[96] = 1\n",
    "y_copy[108] = 3\n",
    "y_copy[74] = 0\n",
    "y_copy[107] = 0\n",
    "y_copy[63] = 0\n",
    "y_copy[97] = 0\n",
    "y_copy[98] = 0\n",
    "y_copy[86] = 1\n",
    "y_copy[122] = 1\n",
    "\n",
    "\n",
    "\n"
   ]
  },
  {
   "cell_type": "code",
   "execution_count": 85,
   "id": "96c47a55",
   "metadata": {},
   "outputs": [
    {
     "data": {
      "text/plain": [
       "1"
      ]
     },
     "execution_count": 85,
     "metadata": {},
     "output_type": "execute_result"
    }
   ],
   "source": [
    "y_copy[22]"
   ]
  },
  {
   "cell_type": "code",
   "execution_count": 86,
   "id": "cb4c00fd",
   "metadata": {},
   "outputs": [],
   "source": [
    "y_copy_lawler = copy.deepcopy(y_copy)\n",
    "# switching nodes 22 and 14 \n",
    "y_copy_lawler[22] = 0\n",
    "y_copy_lawler[14] = 1"
   ]
  },
  {
   "cell_type": "code",
   "execution_count": 87,
   "id": "0d6dbc38",
   "metadata": {},
   "outputs": [
    {
     "name": "stdout",
     "output_type": "stream",
     "text": [
      "7.078947\n"
     ]
    }
   ],
   "source": [
    "[clf, avgf_lawler] = compute_fairness_linear(G_SBM, list_nodes, k, y_copy_lawler)\n",
    "print(avgf_lawler)"
   ]
  },
  {
   "cell_type": "code",
   "execution_count": 88,
   "id": "ffe5059e",
   "metadata": {},
   "outputs": [
    {
     "name": "stdout",
     "output_type": "stream",
     "text": [
      "1.8575168715035852\n"
     ]
    }
   ],
   "source": [
    "[clc, avgc_lawler] = compute_avg_kdistance_inertia(y_copy_lawler,k,X_dist)\n",
    "print(avgc_lawler)"
   ]
  },
  {
   "cell_type": "code",
   "execution_count": 91,
   "id": "c8eea900",
   "metadata": {},
   "outputs": [
    {
     "name": "stdout",
     "output_type": "stream",
     "text": [
      "7.078947\n"
     ]
    }
   ],
   "source": [
    "[clf, avgf] = compute_fairness_linear(G_SBM, list_nodes, k, y_copy)\n",
    "print(avgf)"
   ]
  },
  {
   "cell_type": "code",
   "execution_count": 89,
   "id": "c134abc4",
   "metadata": {},
   "outputs": [
    {
     "name": "stdout",
     "output_type": "stream",
     "text": [
      "6.578947\n"
     ]
    }
   ],
   "source": [
    "y_copy_switch1 = copy.deepcopy(y_copy)\n",
    "y_copy_switch1[22] = 0\n",
    "[clf, avgf1] = compute_fairness_linear(G_SBM, list_nodes, k, y_copy_switch1)\n",
    "print(avgf1)"
   ]
  },
  {
   "cell_type": "code",
   "execution_count": 90,
   "id": "3022241f",
   "metadata": {},
   "outputs": [
    {
     "name": "stdout",
     "output_type": "stream",
     "text": [
      "8.421053\n"
     ]
    }
   ],
   "source": [
    "y_copy_switch2 = copy.deepcopy(y_copy)\n",
    "y_copy_switch2[14] = 1\n",
    "[clf, avgf2] = compute_fairness_linear(G_SBM, list_nodes, k, y_copy_switch2)\n",
    "print(avgf2)"
   ]
  },
  {
   "cell_type": "code",
   "execution_count": 92,
   "id": "b57aac52",
   "metadata": {},
   "outputs": [
    {
     "data": {
      "text/plain": [
       "-0.5"
      ]
     },
     "execution_count": 92,
     "metadata": {},
     "output_type": "execute_result"
    }
   ],
   "source": [
    "6.578947 - 7.078947"
   ]
  },
  {
   "cell_type": "code",
   "execution_count": 93,
   "id": "41a5352b",
   "metadata": {},
   "outputs": [
    {
     "data": {
      "text/plain": [
       "-1.3421060000000002"
      ]
     },
     "execution_count": 93,
     "metadata": {},
     "output_type": "execute_result"
    }
   ],
   "source": [
    "7.078947 - 8.421053"
   ]
  },
  {
   "cell_type": "code",
   "execution_count": 81,
   "id": "c7a6d9e6",
   "metadata": {},
   "outputs": [
    {
     "data": {
      "text/plain": [
       "'b'"
      ]
     },
     "execution_count": 81,
     "metadata": {},
     "output_type": "execute_result"
    }
   ],
   "source": [
    "G_SBM.nodes[list_nodes[22]]['color']"
   ]
  },
  {
   "cell_type": "code",
   "execution_count": 572,
   "id": "cd5855af",
   "metadata": {},
   "outputs": [
    {
     "data": {
      "text/plain": [
       "[1.4537553911824257,\n",
       " 1.458243022449849,\n",
       " 1.462650466295368,\n",
       " 1.4673871946138033,\n",
       " 1.4755614033522608,\n",
       " 1.487419384427709,\n",
       " 1.518500949038601,\n",
       " 1.5385865156067708,\n",
       " 1.559966146859059,\n",
       " 1.580399874006871,\n",
       " 1.6023020541753685,\n",
       " 1.6266422723403888,\n",
       " 1.664994295527305,\n",
       " 1.7039628671872042,\n",
       " 1.7501256303642339,\n",
       " 1.8050745736389786,\n",
       " 2.0587808442066784,\n",
       " 2.214067005694239]"
      ]
     },
     "execution_count": 572,
     "metadata": {},
     "output_type": "execute_result"
    }
   ],
   "source": [
    "c_vals"
   ]
  },
  {
   "cell_type": "code",
   "execution_count": 573,
   "id": "5507424b",
   "metadata": {},
   "outputs": [
    {
     "data": {
      "text/plain": [
       "[1.4537553911824255,\n",
       " 1.458243022449849,\n",
       " 1.4626504662953679,\n",
       " 1.4673871946138033,\n",
       " 1.4755614033522608,\n",
       " 1.487419384427709,\n",
       " 1.5185009490386008,\n",
       " 1.5385865156067706,\n",
       " 1.507504950995879,\n",
       " 1.5385865156067706,\n",
       " 1.559966146859059,\n",
       " 1.580399874006871,\n",
       " 1.5479262862431087,\n",
       " 1.5690576184994678,\n",
       " 1.6023020541753683,\n",
       " 1.6266422723403888,\n",
       " 1.6649942955273052,\n",
       " 1.7039628671872042,\n",
       " 1.7387692784908828,\n",
       " 1.785054773969925,\n",
       " 2.0301196485355018,\n",
       " 2.1827032291742388]"
      ]
     },
     "execution_count": 573,
     "metadata": {},
     "output_type": "execute_result"
    }
   ],
   "source": [
    "cost_list"
   ]
  },
  {
   "cell_type": "code",
   "execution_count": 58,
   "id": "ed17ad22",
   "metadata": {},
   "outputs": [
    {
     "data": {
      "image/png": "[encoded data removed]",
      "text/plain": [
       "<Figure size 640x480 with 1 Axes>"
      ]
     },
     "metadata": {},
     "output_type": "display_data"
    }
   ],
   "source": [
    "plt.scatter(c_vals, f_vals,label='greedy alg')\n",
    "\n",
    "#plt.plot(cost_list, fairness_list)\n",
    "plt.plot(c_vals, f_vals)\n",
    "plt.scatter(cost_list,fairness_list, label='Lawler alg',s=15)\n",
    "\n",
    "plt.xlabel(\"Cost\")\n",
    "plt.ylabel(\"Unfairness\")\n",
    "plt.legend()\n",
    "plt.grid()\n",
    "#plt.savefig('Highschool_tradeoff_Lawlervsgreedy_k5_movingcenters_roundingerrors.pdf')"
   ]
  }
 ],
 "metadata": {
  "kernelspec": {
   "display_name": "Python 3",
   "language": "python",
   "name": "python3"
  },
  "language_info": {
   "codemirror_mode": {
    "name": "ipython",
    "version": 3
   },
   "file_extension": ".py",
   "mimetype": "text/x-python",
   "name": "python",
   "nbconvert_exporter": "python",
   "pygments_lexer": "ipython3",
   "version": "3.7.4"
  },
  "vscode": {
   "interpreter": {
    "hash": "aee8b7b246df8f9039afb4144a1f6fd8d2ca17a180786b69acc140d282b71a49"
   }
  }
 },
 "nbformat": 4,
 "nbformat_minor": 5
}
